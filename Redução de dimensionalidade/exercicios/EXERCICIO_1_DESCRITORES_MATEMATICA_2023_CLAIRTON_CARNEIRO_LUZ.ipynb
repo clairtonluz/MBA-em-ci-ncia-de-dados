{
  "cells": [
    {
      "cell_type": "markdown",
      "id": "ae619aa8",
      "metadata": {
        "id": "ae619aa8"
      },
      "source": [
        "# Exercícios\n",
        "\n",
        "Você recebeu o arquivo **DESCRITORESMATH.csv**. Ele contém as notas, por descritores, para avaliação das escolas do estado do Ceará. Existe um atributo chamado **'Indicação do Padrão de Desempenho'** que classifica a escola.\n",
        "\n",
        "\n",
        "1. Atribua, gradativamente e aleatoriamente, as propriedades do conjunto de dados ao modelo e verifique o tempo de execução e a performance como função do número de dimensões ao qual o modelo foi treinado.\n",
        "\n",
        "2. Atribua, gradativamente, as propriedades do conjunto de dados ao modelo e verifique o tempo de execução e a performance como função do número de dimensões ao qual o modelo foi treinado. Atribua as dimensões ao modelo utilizando a **eliminação por variância**.\n",
        "\n",
        "3. Atribua, gradativamente, as propriedades do conjunto de dados ao modelo e verifique o tempo de execução e a performance como função do número de dimensões ao qual o modelo foi treinado. Atribua as dimensões ao modelo utilizando a **método de eliminação por árvore**.\n",
        "\n",
        "4. Faça um gráfico e compare os resultados das abordagem propostas nos itens anteriores. O comportamento médio do tempo de execução como função do número de atributos depende da estratégia utilizada?  \n",
        "\n",
        "\n",
        "\n",
        "\n"
      ]
    },
    {
      "cell_type": "code",
      "execution_count": 27,
      "id": "8282bc7f",
      "metadata": {
        "id": "8282bc7f"
      },
      "outputs": [],
      "source": [
        "import pandas as pd\n",
        "import seaborn as sns\n",
        "import time\n",
        "import matplotlib.pyplot as plt"
      ]
    },
    {
      "cell_type": "code",
      "execution_count": 28,
      "id": "40d277a8",
      "metadata": {
        "id": "40d277a8"
      },
      "outputs": [],
      "source": [
        "df=pd.read_csv('DESCRITORESMATH.csv')"
      ]
    },
    {
      "cell_type": "code",
      "execution_count": 29,
      "id": "8be576c6",
      "metadata": {
        "colab": {
          "base_uri": "https://localhost:8080/",
          "height": 545
        },
        "id": "8be576c6",
        "outputId": "8b2b79d7-1231-4c94-b4cd-3522f2ba8ef0"
      },
      "outputs": [
        {
          "data": {
            "text/html": [
              "<div>\n",
              "<style scoped>\n",
              "    .dataframe tbody tr th:only-of-type {\n",
              "        vertical-align: middle;\n",
              "    }\n",
              "\n",
              "    .dataframe tbody tr th {\n",
              "        vertical-align: top;\n",
              "    }\n",
              "\n",
              "    .dataframe thead th {\n",
              "        text-align: right;\n",
              "    }\n",
              "</style>\n",
              "<table border=\"1\" class=\"dataframe\">\n",
              "  <thead>\n",
              "    <tr style=\"text-align: right;\">\n",
              "      <th></th>\n",
              "      <th>D16</th>\n",
              "      <th>D19</th>\n",
              "      <th>D20</th>\n",
              "      <th>D24</th>\n",
              "      <th>D28</th>\n",
              "      <th>D40</th>\n",
              "      <th>D42</th>\n",
              "      <th>D49</th>\n",
              "      <th>D50</th>\n",
              "      <th>D51</th>\n",
              "      <th>...</th>\n",
              "      <th>D64</th>\n",
              "      <th>D65</th>\n",
              "      <th>D67</th>\n",
              "      <th>D71</th>\n",
              "      <th>D72</th>\n",
              "      <th>D76</th>\n",
              "      <th>D78</th>\n",
              "      <th>Indicação do Padrão de Desempenho</th>\n",
              "      <th>Município</th>\n",
              "      <th>Escola</th>\n",
              "    </tr>\n",
              "  </thead>\n",
              "  <tbody>\n",
              "    <tr>\n",
              "      <th>0</th>\n",
              "      <td>33.1</td>\n",
              "      <td>33.8</td>\n",
              "      <td>20.0</td>\n",
              "      <td>29.6</td>\n",
              "      <td>6.4</td>\n",
              "      <td>25.5</td>\n",
              "      <td>37.0</td>\n",
              "      <td>38.3</td>\n",
              "      <td>21.6</td>\n",
              "      <td>23.3</td>\n",
              "      <td>...</td>\n",
              "      <td>25.4</td>\n",
              "      <td>27.5</td>\n",
              "      <td>22.8</td>\n",
              "      <td>25.4</td>\n",
              "      <td>28.1</td>\n",
              "      <td>86.4</td>\n",
              "      <td>25.5</td>\n",
              "      <td>Crítico</td>\n",
              "      <td>AQUIRAZ</td>\n",
              "      <td>LIA SIDOU EEM</td>\n",
              "    </tr>\n",
              "    <tr>\n",
              "      <th>1</th>\n",
              "      <td>24.0</td>\n",
              "      <td>30.9</td>\n",
              "      <td>20.7</td>\n",
              "      <td>19.1</td>\n",
              "      <td>13.6</td>\n",
              "      <td>10.7</td>\n",
              "      <td>47.6</td>\n",
              "      <td>20.4</td>\n",
              "      <td>25.5</td>\n",
              "      <td>22.8</td>\n",
              "      <td>...</td>\n",
              "      <td>15.0</td>\n",
              "      <td>22.4</td>\n",
              "      <td>20.3</td>\n",
              "      <td>32.7</td>\n",
              "      <td>21.2</td>\n",
              "      <td>86.2</td>\n",
              "      <td>26.0</td>\n",
              "      <td>Crítico</td>\n",
              "      <td>AQUIRAZ</td>\n",
              "      <td>EEM LIA SIDOU</td>\n",
              "    </tr>\n",
              "    <tr>\n",
              "      <th>2</th>\n",
              "      <td>30.2</td>\n",
              "      <td>31.9</td>\n",
              "      <td>23.8</td>\n",
              "      <td>25.5</td>\n",
              "      <td>33.3</td>\n",
              "      <td>38.7</td>\n",
              "      <td>41.3</td>\n",
              "      <td>19.0</td>\n",
              "      <td>17.5</td>\n",
              "      <td>16.1</td>\n",
              "      <td>...</td>\n",
              "      <td>33.3</td>\n",
              "      <td>25.4</td>\n",
              "      <td>23.4</td>\n",
              "      <td>17.0</td>\n",
              "      <td>37.1</td>\n",
              "      <td>74.6</td>\n",
              "      <td>40.3</td>\n",
              "      <td>Crítico</td>\n",
              "      <td>AQUIRAZ</td>\n",
              "      <td>EEM LIA SIDOU</td>\n",
              "    </tr>\n",
              "    <tr>\n",
              "      <th>3</th>\n",
              "      <td>37.1</td>\n",
              "      <td>34.1</td>\n",
              "      <td>19.8</td>\n",
              "      <td>26.1</td>\n",
              "      <td>23.3</td>\n",
              "      <td>26.9</td>\n",
              "      <td>34.2</td>\n",
              "      <td>35.3</td>\n",
              "      <td>20.2</td>\n",
              "      <td>25.8</td>\n",
              "      <td>...</td>\n",
              "      <td>37.1</td>\n",
              "      <td>28.4</td>\n",
              "      <td>23.5</td>\n",
              "      <td>12.2</td>\n",
              "      <td>28.9</td>\n",
              "      <td>93.8</td>\n",
              "      <td>50.0</td>\n",
              "      <td>Crítico</td>\n",
              "      <td>AQUIRAZ</td>\n",
              "      <td>LIA SIDOU EEMTI</td>\n",
              "    </tr>\n",
              "    <tr>\n",
              "      <th>4</th>\n",
              "      <td>12.4</td>\n",
              "      <td>36.1</td>\n",
              "      <td>19.7</td>\n",
              "      <td>10.2</td>\n",
              "      <td>13.6</td>\n",
              "      <td>24.6</td>\n",
              "      <td>33.7</td>\n",
              "      <td>40.6</td>\n",
              "      <td>25.2</td>\n",
              "      <td>29.6</td>\n",
              "      <td>...</td>\n",
              "      <td>21.0</td>\n",
              "      <td>27.2</td>\n",
              "      <td>20.0</td>\n",
              "      <td>17.6</td>\n",
              "      <td>32.1</td>\n",
              "      <td>82.3</td>\n",
              "      <td>15.1</td>\n",
              "      <td>Muito Crítico</td>\n",
              "      <td>CAUCAIA</td>\n",
              "      <td>EEFM DOM ALOISIO LORSCHEIDER</td>\n",
              "    </tr>\n",
              "    <tr>\n",
              "      <th>...</th>\n",
              "      <td>...</td>\n",
              "      <td>...</td>\n",
              "      <td>...</td>\n",
              "      <td>...</td>\n",
              "      <td>...</td>\n",
              "      <td>...</td>\n",
              "      <td>...</td>\n",
              "      <td>...</td>\n",
              "      <td>...</td>\n",
              "      <td>...</td>\n",
              "      <td>...</td>\n",
              "      <td>...</td>\n",
              "      <td>...</td>\n",
              "      <td>...</td>\n",
              "      <td>...</td>\n",
              "      <td>...</td>\n",
              "      <td>...</td>\n",
              "      <td>...</td>\n",
              "      <td>...</td>\n",
              "      <td>...</td>\n",
              "      <td>...</td>\n",
              "    </tr>\n",
              "    <tr>\n",
              "      <th>2467</th>\n",
              "      <td>43.5</td>\n",
              "      <td>38.0</td>\n",
              "      <td>24.5</td>\n",
              "      <td>25.4</td>\n",
              "      <td>14.4</td>\n",
              "      <td>14.7</td>\n",
              "      <td>37.4</td>\n",
              "      <td>27.6</td>\n",
              "      <td>24.0</td>\n",
              "      <td>27.6</td>\n",
              "      <td>...</td>\n",
              "      <td>36.5</td>\n",
              "      <td>30.9</td>\n",
              "      <td>29.5</td>\n",
              "      <td>17.8</td>\n",
              "      <td>27.5</td>\n",
              "      <td>84.1</td>\n",
              "      <td>52.7</td>\n",
              "      <td>Crítico</td>\n",
              "      <td>FORTALEZA</td>\n",
              "      <td>EEM LICEU DO CONJUNTO CEARA</td>\n",
              "    </tr>\n",
              "    <tr>\n",
              "      <th>2468</th>\n",
              "      <td>21.9</td>\n",
              "      <td>37.5</td>\n",
              "      <td>16.0</td>\n",
              "      <td>34.6</td>\n",
              "      <td>16.7</td>\n",
              "      <td>26.1</td>\n",
              "      <td>60.0</td>\n",
              "      <td>34.1</td>\n",
              "      <td>27.9</td>\n",
              "      <td>21.2</td>\n",
              "      <td>...</td>\n",
              "      <td>33.3</td>\n",
              "      <td>35.0</td>\n",
              "      <td>16.7</td>\n",
              "      <td>35.5</td>\n",
              "      <td>29.4</td>\n",
              "      <td>90.9</td>\n",
              "      <td>41.7</td>\n",
              "      <td>Crítico</td>\n",
              "      <td>FORTALEZA</td>\n",
              "      <td>EEF SAO JOSE DO PICI DAS PEDREIRAS</td>\n",
              "    </tr>\n",
              "    <tr>\n",
              "      <th>2469</th>\n",
              "      <td>28.8</td>\n",
              "      <td>27.1</td>\n",
              "      <td>16.1</td>\n",
              "      <td>19.1</td>\n",
              "      <td>16.4</td>\n",
              "      <td>4.8</td>\n",
              "      <td>48.3</td>\n",
              "      <td>26.2</td>\n",
              "      <td>21.7</td>\n",
              "      <td>13.6</td>\n",
              "      <td>...</td>\n",
              "      <td>35.0</td>\n",
              "      <td>20.6</td>\n",
              "      <td>18.3</td>\n",
              "      <td>20.9</td>\n",
              "      <td>18.0</td>\n",
              "      <td>85.5</td>\n",
              "      <td>23.7</td>\n",
              "      <td>Crítico</td>\n",
              "      <td>FORTALEZA</td>\n",
              "      <td>EEF SAO JOSE DO PICI DAS PEDREIRAS</td>\n",
              "    </tr>\n",
              "    <tr>\n",
              "      <th>2470</th>\n",
              "      <td>40.9</td>\n",
              "      <td>40.9</td>\n",
              "      <td>17.2</td>\n",
              "      <td>31.8</td>\n",
              "      <td>29.2</td>\n",
              "      <td>46.7</td>\n",
              "      <td>40.4</td>\n",
              "      <td>17.8</td>\n",
              "      <td>25.8</td>\n",
              "      <td>23.3</td>\n",
              "      <td>...</td>\n",
              "      <td>35.3</td>\n",
              "      <td>18.0</td>\n",
              "      <td>15.1</td>\n",
              "      <td>10.0</td>\n",
              "      <td>27.5</td>\n",
              "      <td>77.4</td>\n",
              "      <td>38.5</td>\n",
              "      <td>Crítico</td>\n",
              "      <td>FORTALEZA</td>\n",
              "      <td>EEF SAO JOSE DO PICI DAS PEDREIRAS</td>\n",
              "    </tr>\n",
              "    <tr>\n",
              "      <th>2471</th>\n",
              "      <td>36.3</td>\n",
              "      <td>45.3</td>\n",
              "      <td>23.3</td>\n",
              "      <td>24.3</td>\n",
              "      <td>15.5</td>\n",
              "      <td>53.5</td>\n",
              "      <td>24.7</td>\n",
              "      <td>33.0</td>\n",
              "      <td>21.0</td>\n",
              "      <td>30.3</td>\n",
              "      <td>...</td>\n",
              "      <td>40.8</td>\n",
              "      <td>27.5</td>\n",
              "      <td>30.8</td>\n",
              "      <td>10.6</td>\n",
              "      <td>44.0</td>\n",
              "      <td>84.8</td>\n",
              "      <td>51.0</td>\n",
              "      <td>Crítico</td>\n",
              "      <td>FORTALEZA</td>\n",
              "      <td>EEF SAO JOSE DO PICI DAS PEDREIRAS</td>\n",
              "    </tr>\n",
              "  </tbody>\n",
              "</table>\n",
              "<p>2472 rows × 27 columns</p>\n",
              "</div>"
            ],
            "text/plain": [
              "       D16   D19   D20   D24   D28   D40   D42   D49   D50   D51  ...   D64  \\\n",
              "0     33.1  33.8  20.0  29.6   6.4  25.5  37.0  38.3  21.6  23.3  ...  25.4   \n",
              "1     24.0  30.9  20.7  19.1  13.6  10.7  47.6  20.4  25.5  22.8  ...  15.0   \n",
              "2     30.2  31.9  23.8  25.5  33.3  38.7  41.3  19.0  17.5  16.1  ...  33.3   \n",
              "3     37.1  34.1  19.8  26.1  23.3  26.9  34.2  35.3  20.2  25.8  ...  37.1   \n",
              "4     12.4  36.1  19.7  10.2  13.6  24.6  33.7  40.6  25.2  29.6  ...  21.0   \n",
              "...    ...   ...   ...   ...   ...   ...   ...   ...   ...   ...  ...   ...   \n",
              "2467  43.5  38.0  24.5  25.4  14.4  14.7  37.4  27.6  24.0  27.6  ...  36.5   \n",
              "2468  21.9  37.5  16.0  34.6  16.7  26.1  60.0  34.1  27.9  21.2  ...  33.3   \n",
              "2469  28.8  27.1  16.1  19.1  16.4   4.8  48.3  26.2  21.7  13.6  ...  35.0   \n",
              "2470  40.9  40.9  17.2  31.8  29.2  46.7  40.4  17.8  25.8  23.3  ...  35.3   \n",
              "2471  36.3  45.3  23.3  24.3  15.5  53.5  24.7  33.0  21.0  30.3  ...  40.8   \n",
              "\n",
              "       D65   D67   D71   D72   D76   D78  Indicação do Padrão de Desempenho  \\\n",
              "0     27.5  22.8  25.4  28.1  86.4  25.5                            Crítico   \n",
              "1     22.4  20.3  32.7  21.2  86.2  26.0                            Crítico   \n",
              "2     25.4  23.4  17.0  37.1  74.6  40.3                            Crítico   \n",
              "3     28.4  23.5  12.2  28.9  93.8  50.0                            Crítico   \n",
              "4     27.2  20.0  17.6  32.1  82.3  15.1                      Muito Crítico   \n",
              "...    ...   ...   ...   ...   ...   ...                                ...   \n",
              "2467  30.9  29.5  17.8  27.5  84.1  52.7                            Crítico   \n",
              "2468  35.0  16.7  35.5  29.4  90.9  41.7                            Crítico   \n",
              "2469  20.6  18.3  20.9  18.0  85.5  23.7                            Crítico   \n",
              "2470  18.0  15.1  10.0  27.5  77.4  38.5                            Crítico   \n",
              "2471  27.5  30.8  10.6  44.0  84.8  51.0                            Crítico   \n",
              "\n",
              "      Município                              Escola  \n",
              "0       AQUIRAZ                       LIA SIDOU EEM  \n",
              "1       AQUIRAZ                       EEM LIA SIDOU  \n",
              "2       AQUIRAZ                       EEM LIA SIDOU  \n",
              "3       AQUIRAZ                     LIA SIDOU EEMTI  \n",
              "4       CAUCAIA        EEFM DOM ALOISIO LORSCHEIDER  \n",
              "...         ...                                 ...  \n",
              "2467  FORTALEZA         EEM LICEU DO CONJUNTO CEARA  \n",
              "2468  FORTALEZA  EEF SAO JOSE DO PICI DAS PEDREIRAS  \n",
              "2469  FORTALEZA  EEF SAO JOSE DO PICI DAS PEDREIRAS  \n",
              "2470  FORTALEZA  EEF SAO JOSE DO PICI DAS PEDREIRAS  \n",
              "2471  FORTALEZA  EEF SAO JOSE DO PICI DAS PEDREIRAS  \n",
              "\n",
              "[2472 rows x 27 columns]"
            ]
          },
          "execution_count": 29,
          "metadata": {},
          "output_type": "execute_result"
        }
      ],
      "source": [
        "df"
      ]
    },
    {
      "cell_type": "code",
      "execution_count": 30,
      "id": "83c05365",
      "metadata": {
        "colab": {
          "base_uri": "https://localhost:8080/"
        },
        "id": "83c05365",
        "outputId": "1f870902-eec8-43eb-8fd8-fb84b0acae36"
      },
      "outputs": [
        {
          "data": {
            "text/plain": [
              "Indicação do Padrão de Desempenho\n",
              "Crítico          1710\n",
              "Muito Crítico     423\n",
              "Intermediário     306\n",
              "Adequado           33\n",
              "Name: count, dtype: int64"
            ]
          },
          "execution_count": 30,
          "metadata": {},
          "output_type": "execute_result"
        }
      ],
      "source": [
        "df['Indicação do Padrão de Desempenho'].value_counts()"
      ]
    },
    {
      "cell_type": "code",
      "execution_count": 31,
      "id": "843ea176",
      "metadata": {
        "id": "843ea176"
      },
      "outputs": [],
      "source": [
        "def mudarvalor(x):\n",
        "\n",
        "    if x=='Crítico':\n",
        "        y=0\n",
        "    if x=='Muito Crítico':\n",
        "        y=0\n",
        "    if x=='Intermediário':\n",
        "        y=1\n",
        "    if x=='Adequado':\n",
        "        y=1\n",
        "    return y"
      ]
    },
    {
      "cell_type": "code",
      "execution_count": 32,
      "id": "54e2e72c",
      "metadata": {
        "colab": {
          "base_uri": "https://localhost:8080/"
        },
        "id": "54e2e72c",
        "outputId": "f9ce7c81-add7-4e75-ef24-a817333c999e"
      },
      "outputs": [
        {
          "data": {
            "text/plain": [
              "0       0\n",
              "1       0\n",
              "2       0\n",
              "3       0\n",
              "4       0\n",
              "       ..\n",
              "2467    0\n",
              "2468    0\n",
              "2469    0\n",
              "2470    0\n",
              "2471    0\n",
              "Name: Indicação do Padrão de Desempenho, Length: 2472, dtype: int64"
            ]
          },
          "execution_count": 32,
          "metadata": {},
          "output_type": "execute_result"
        }
      ],
      "source": [
        "df['Indicação do Padrão de Desempenho'].apply(mudarvalor)"
      ]
    },
    {
      "cell_type": "code",
      "execution_count": 33,
      "id": "72520286",
      "metadata": {
        "id": "72520286"
      },
      "outputs": [],
      "source": [
        "df['Indicação do Padrão de Desempenho']=df['Indicação do Padrão de Desempenho'].apply(mudarvalor)"
      ]
    },
    {
      "cell_type": "code",
      "execution_count": 34,
      "id": "42c1bb66",
      "metadata": {
        "colab": {
          "base_uri": "https://localhost:8080/",
          "height": 545
        },
        "id": "42c1bb66",
        "outputId": "1b7a6d71-4e36-4575-8d46-3f46a8583fae"
      },
      "outputs": [
        {
          "data": {
            "text/html": [
              "<div>\n",
              "<style scoped>\n",
              "    .dataframe tbody tr th:only-of-type {\n",
              "        vertical-align: middle;\n",
              "    }\n",
              "\n",
              "    .dataframe tbody tr th {\n",
              "        vertical-align: top;\n",
              "    }\n",
              "\n",
              "    .dataframe thead th {\n",
              "        text-align: right;\n",
              "    }\n",
              "</style>\n",
              "<table border=\"1\" class=\"dataframe\">\n",
              "  <thead>\n",
              "    <tr style=\"text-align: right;\">\n",
              "      <th></th>\n",
              "      <th>D16</th>\n",
              "      <th>D19</th>\n",
              "      <th>D20</th>\n",
              "      <th>D24</th>\n",
              "      <th>D28</th>\n",
              "      <th>D40</th>\n",
              "      <th>D42</th>\n",
              "      <th>D49</th>\n",
              "      <th>D50</th>\n",
              "      <th>D51</th>\n",
              "      <th>...</th>\n",
              "      <th>D64</th>\n",
              "      <th>D65</th>\n",
              "      <th>D67</th>\n",
              "      <th>D71</th>\n",
              "      <th>D72</th>\n",
              "      <th>D76</th>\n",
              "      <th>D78</th>\n",
              "      <th>Indicação do Padrão de Desempenho</th>\n",
              "      <th>Município</th>\n",
              "      <th>Escola</th>\n",
              "    </tr>\n",
              "  </thead>\n",
              "  <tbody>\n",
              "    <tr>\n",
              "      <th>0</th>\n",
              "      <td>33.1</td>\n",
              "      <td>33.8</td>\n",
              "      <td>20.0</td>\n",
              "      <td>29.6</td>\n",
              "      <td>6.4</td>\n",
              "      <td>25.5</td>\n",
              "      <td>37.0</td>\n",
              "      <td>38.3</td>\n",
              "      <td>21.6</td>\n",
              "      <td>23.3</td>\n",
              "      <td>...</td>\n",
              "      <td>25.4</td>\n",
              "      <td>27.5</td>\n",
              "      <td>22.8</td>\n",
              "      <td>25.4</td>\n",
              "      <td>28.1</td>\n",
              "      <td>86.4</td>\n",
              "      <td>25.5</td>\n",
              "      <td>0</td>\n",
              "      <td>AQUIRAZ</td>\n",
              "      <td>LIA SIDOU EEM</td>\n",
              "    </tr>\n",
              "    <tr>\n",
              "      <th>1</th>\n",
              "      <td>24.0</td>\n",
              "      <td>30.9</td>\n",
              "      <td>20.7</td>\n",
              "      <td>19.1</td>\n",
              "      <td>13.6</td>\n",
              "      <td>10.7</td>\n",
              "      <td>47.6</td>\n",
              "      <td>20.4</td>\n",
              "      <td>25.5</td>\n",
              "      <td>22.8</td>\n",
              "      <td>...</td>\n",
              "      <td>15.0</td>\n",
              "      <td>22.4</td>\n",
              "      <td>20.3</td>\n",
              "      <td>32.7</td>\n",
              "      <td>21.2</td>\n",
              "      <td>86.2</td>\n",
              "      <td>26.0</td>\n",
              "      <td>0</td>\n",
              "      <td>AQUIRAZ</td>\n",
              "      <td>EEM LIA SIDOU</td>\n",
              "    </tr>\n",
              "    <tr>\n",
              "      <th>2</th>\n",
              "      <td>30.2</td>\n",
              "      <td>31.9</td>\n",
              "      <td>23.8</td>\n",
              "      <td>25.5</td>\n",
              "      <td>33.3</td>\n",
              "      <td>38.7</td>\n",
              "      <td>41.3</td>\n",
              "      <td>19.0</td>\n",
              "      <td>17.5</td>\n",
              "      <td>16.1</td>\n",
              "      <td>...</td>\n",
              "      <td>33.3</td>\n",
              "      <td>25.4</td>\n",
              "      <td>23.4</td>\n",
              "      <td>17.0</td>\n",
              "      <td>37.1</td>\n",
              "      <td>74.6</td>\n",
              "      <td>40.3</td>\n",
              "      <td>0</td>\n",
              "      <td>AQUIRAZ</td>\n",
              "      <td>EEM LIA SIDOU</td>\n",
              "    </tr>\n",
              "    <tr>\n",
              "      <th>3</th>\n",
              "      <td>37.1</td>\n",
              "      <td>34.1</td>\n",
              "      <td>19.8</td>\n",
              "      <td>26.1</td>\n",
              "      <td>23.3</td>\n",
              "      <td>26.9</td>\n",
              "      <td>34.2</td>\n",
              "      <td>35.3</td>\n",
              "      <td>20.2</td>\n",
              "      <td>25.8</td>\n",
              "      <td>...</td>\n",
              "      <td>37.1</td>\n",
              "      <td>28.4</td>\n",
              "      <td>23.5</td>\n",
              "      <td>12.2</td>\n",
              "      <td>28.9</td>\n",
              "      <td>93.8</td>\n",
              "      <td>50.0</td>\n",
              "      <td>0</td>\n",
              "      <td>AQUIRAZ</td>\n",
              "      <td>LIA SIDOU EEMTI</td>\n",
              "    </tr>\n",
              "    <tr>\n",
              "      <th>4</th>\n",
              "      <td>12.4</td>\n",
              "      <td>36.1</td>\n",
              "      <td>19.7</td>\n",
              "      <td>10.2</td>\n",
              "      <td>13.6</td>\n",
              "      <td>24.6</td>\n",
              "      <td>33.7</td>\n",
              "      <td>40.6</td>\n",
              "      <td>25.2</td>\n",
              "      <td>29.6</td>\n",
              "      <td>...</td>\n",
              "      <td>21.0</td>\n",
              "      <td>27.2</td>\n",
              "      <td>20.0</td>\n",
              "      <td>17.6</td>\n",
              "      <td>32.1</td>\n",
              "      <td>82.3</td>\n",
              "      <td>15.1</td>\n",
              "      <td>0</td>\n",
              "      <td>CAUCAIA</td>\n",
              "      <td>EEFM DOM ALOISIO LORSCHEIDER</td>\n",
              "    </tr>\n",
              "    <tr>\n",
              "      <th>...</th>\n",
              "      <td>...</td>\n",
              "      <td>...</td>\n",
              "      <td>...</td>\n",
              "      <td>...</td>\n",
              "      <td>...</td>\n",
              "      <td>...</td>\n",
              "      <td>...</td>\n",
              "      <td>...</td>\n",
              "      <td>...</td>\n",
              "      <td>...</td>\n",
              "      <td>...</td>\n",
              "      <td>...</td>\n",
              "      <td>...</td>\n",
              "      <td>...</td>\n",
              "      <td>...</td>\n",
              "      <td>...</td>\n",
              "      <td>...</td>\n",
              "      <td>...</td>\n",
              "      <td>...</td>\n",
              "      <td>...</td>\n",
              "      <td>...</td>\n",
              "    </tr>\n",
              "    <tr>\n",
              "      <th>2467</th>\n",
              "      <td>43.5</td>\n",
              "      <td>38.0</td>\n",
              "      <td>24.5</td>\n",
              "      <td>25.4</td>\n",
              "      <td>14.4</td>\n",
              "      <td>14.7</td>\n",
              "      <td>37.4</td>\n",
              "      <td>27.6</td>\n",
              "      <td>24.0</td>\n",
              "      <td>27.6</td>\n",
              "      <td>...</td>\n",
              "      <td>36.5</td>\n",
              "      <td>30.9</td>\n",
              "      <td>29.5</td>\n",
              "      <td>17.8</td>\n",
              "      <td>27.5</td>\n",
              "      <td>84.1</td>\n",
              "      <td>52.7</td>\n",
              "      <td>0</td>\n",
              "      <td>FORTALEZA</td>\n",
              "      <td>EEM LICEU DO CONJUNTO CEARA</td>\n",
              "    </tr>\n",
              "    <tr>\n",
              "      <th>2468</th>\n",
              "      <td>21.9</td>\n",
              "      <td>37.5</td>\n",
              "      <td>16.0</td>\n",
              "      <td>34.6</td>\n",
              "      <td>16.7</td>\n",
              "      <td>26.1</td>\n",
              "      <td>60.0</td>\n",
              "      <td>34.1</td>\n",
              "      <td>27.9</td>\n",
              "      <td>21.2</td>\n",
              "      <td>...</td>\n",
              "      <td>33.3</td>\n",
              "      <td>35.0</td>\n",
              "      <td>16.7</td>\n",
              "      <td>35.5</td>\n",
              "      <td>29.4</td>\n",
              "      <td>90.9</td>\n",
              "      <td>41.7</td>\n",
              "      <td>0</td>\n",
              "      <td>FORTALEZA</td>\n",
              "      <td>EEF SAO JOSE DO PICI DAS PEDREIRAS</td>\n",
              "    </tr>\n",
              "    <tr>\n",
              "      <th>2469</th>\n",
              "      <td>28.8</td>\n",
              "      <td>27.1</td>\n",
              "      <td>16.1</td>\n",
              "      <td>19.1</td>\n",
              "      <td>16.4</td>\n",
              "      <td>4.8</td>\n",
              "      <td>48.3</td>\n",
              "      <td>26.2</td>\n",
              "      <td>21.7</td>\n",
              "      <td>13.6</td>\n",
              "      <td>...</td>\n",
              "      <td>35.0</td>\n",
              "      <td>20.6</td>\n",
              "      <td>18.3</td>\n",
              "      <td>20.9</td>\n",
              "      <td>18.0</td>\n",
              "      <td>85.5</td>\n",
              "      <td>23.7</td>\n",
              "      <td>0</td>\n",
              "      <td>FORTALEZA</td>\n",
              "      <td>EEF SAO JOSE DO PICI DAS PEDREIRAS</td>\n",
              "    </tr>\n",
              "    <tr>\n",
              "      <th>2470</th>\n",
              "      <td>40.9</td>\n",
              "      <td>40.9</td>\n",
              "      <td>17.2</td>\n",
              "      <td>31.8</td>\n",
              "      <td>29.2</td>\n",
              "      <td>46.7</td>\n",
              "      <td>40.4</td>\n",
              "      <td>17.8</td>\n",
              "      <td>25.8</td>\n",
              "      <td>23.3</td>\n",
              "      <td>...</td>\n",
              "      <td>35.3</td>\n",
              "      <td>18.0</td>\n",
              "      <td>15.1</td>\n",
              "      <td>10.0</td>\n",
              "      <td>27.5</td>\n",
              "      <td>77.4</td>\n",
              "      <td>38.5</td>\n",
              "      <td>0</td>\n",
              "      <td>FORTALEZA</td>\n",
              "      <td>EEF SAO JOSE DO PICI DAS PEDREIRAS</td>\n",
              "    </tr>\n",
              "    <tr>\n",
              "      <th>2471</th>\n",
              "      <td>36.3</td>\n",
              "      <td>45.3</td>\n",
              "      <td>23.3</td>\n",
              "      <td>24.3</td>\n",
              "      <td>15.5</td>\n",
              "      <td>53.5</td>\n",
              "      <td>24.7</td>\n",
              "      <td>33.0</td>\n",
              "      <td>21.0</td>\n",
              "      <td>30.3</td>\n",
              "      <td>...</td>\n",
              "      <td>40.8</td>\n",
              "      <td>27.5</td>\n",
              "      <td>30.8</td>\n",
              "      <td>10.6</td>\n",
              "      <td>44.0</td>\n",
              "      <td>84.8</td>\n",
              "      <td>51.0</td>\n",
              "      <td>0</td>\n",
              "      <td>FORTALEZA</td>\n",
              "      <td>EEF SAO JOSE DO PICI DAS PEDREIRAS</td>\n",
              "    </tr>\n",
              "  </tbody>\n",
              "</table>\n",
              "<p>2472 rows × 27 columns</p>\n",
              "</div>"
            ],
            "text/plain": [
              "       D16   D19   D20   D24   D28   D40   D42   D49   D50   D51  ...   D64  \\\n",
              "0     33.1  33.8  20.0  29.6   6.4  25.5  37.0  38.3  21.6  23.3  ...  25.4   \n",
              "1     24.0  30.9  20.7  19.1  13.6  10.7  47.6  20.4  25.5  22.8  ...  15.0   \n",
              "2     30.2  31.9  23.8  25.5  33.3  38.7  41.3  19.0  17.5  16.1  ...  33.3   \n",
              "3     37.1  34.1  19.8  26.1  23.3  26.9  34.2  35.3  20.2  25.8  ...  37.1   \n",
              "4     12.4  36.1  19.7  10.2  13.6  24.6  33.7  40.6  25.2  29.6  ...  21.0   \n",
              "...    ...   ...   ...   ...   ...   ...   ...   ...   ...   ...  ...   ...   \n",
              "2467  43.5  38.0  24.5  25.4  14.4  14.7  37.4  27.6  24.0  27.6  ...  36.5   \n",
              "2468  21.9  37.5  16.0  34.6  16.7  26.1  60.0  34.1  27.9  21.2  ...  33.3   \n",
              "2469  28.8  27.1  16.1  19.1  16.4   4.8  48.3  26.2  21.7  13.6  ...  35.0   \n",
              "2470  40.9  40.9  17.2  31.8  29.2  46.7  40.4  17.8  25.8  23.3  ...  35.3   \n",
              "2471  36.3  45.3  23.3  24.3  15.5  53.5  24.7  33.0  21.0  30.3  ...  40.8   \n",
              "\n",
              "       D65   D67   D71   D72   D76   D78  Indicação do Padrão de Desempenho  \\\n",
              "0     27.5  22.8  25.4  28.1  86.4  25.5                                  0   \n",
              "1     22.4  20.3  32.7  21.2  86.2  26.0                                  0   \n",
              "2     25.4  23.4  17.0  37.1  74.6  40.3                                  0   \n",
              "3     28.4  23.5  12.2  28.9  93.8  50.0                                  0   \n",
              "4     27.2  20.0  17.6  32.1  82.3  15.1                                  0   \n",
              "...    ...   ...   ...   ...   ...   ...                                ...   \n",
              "2467  30.9  29.5  17.8  27.5  84.1  52.7                                  0   \n",
              "2468  35.0  16.7  35.5  29.4  90.9  41.7                                  0   \n",
              "2469  20.6  18.3  20.9  18.0  85.5  23.7                                  0   \n",
              "2470  18.0  15.1  10.0  27.5  77.4  38.5                                  0   \n",
              "2471  27.5  30.8  10.6  44.0  84.8  51.0                                  0   \n",
              "\n",
              "      Município                              Escola  \n",
              "0       AQUIRAZ                       LIA SIDOU EEM  \n",
              "1       AQUIRAZ                       EEM LIA SIDOU  \n",
              "2       AQUIRAZ                       EEM LIA SIDOU  \n",
              "3       AQUIRAZ                     LIA SIDOU EEMTI  \n",
              "4       CAUCAIA        EEFM DOM ALOISIO LORSCHEIDER  \n",
              "...         ...                                 ...  \n",
              "2467  FORTALEZA         EEM LICEU DO CONJUNTO CEARA  \n",
              "2468  FORTALEZA  EEF SAO JOSE DO PICI DAS PEDREIRAS  \n",
              "2469  FORTALEZA  EEF SAO JOSE DO PICI DAS PEDREIRAS  \n",
              "2470  FORTALEZA  EEF SAO JOSE DO PICI DAS PEDREIRAS  \n",
              "2471  FORTALEZA  EEF SAO JOSE DO PICI DAS PEDREIRAS  \n",
              "\n",
              "[2472 rows x 27 columns]"
            ]
          },
          "execution_count": 34,
          "metadata": {},
          "output_type": "execute_result"
        }
      ],
      "source": [
        "df"
      ]
    },
    {
      "cell_type": "code",
      "execution_count": 35,
      "id": "3ca5d6e0",
      "metadata": {
        "colab": {
          "base_uri": "https://localhost:8080/"
        },
        "id": "3ca5d6e0",
        "outputId": "76dc0690-96e9-4bee-dfa0-77cede2f2431"
      },
      "outputs": [
        {
          "data": {
            "text/plain": [
              "Index(['D16', 'D19', 'D20', 'D24', 'D28', 'D40', 'D42', 'D49', 'D50', 'D51',\n",
              "       'D52', 'D53', 'D54', 'D55', 'D56', 'D57', 'D58', 'D64', 'D65', 'D67',\n",
              "       'D71', 'D72', 'D76', 'D78'],\n",
              "      dtype='object')"
            ]
          },
          "execution_count": 35,
          "metadata": {},
          "output_type": "execute_result"
        }
      ],
      "source": [
        "df.drop(['Indicação do Padrão de Desempenho','Município','Escola'],axis=1).columns"
      ]
    },
    {
      "cell_type": "code",
      "execution_count": 36,
      "id": "eb717efb",
      "metadata": {
        "colab": {
          "base_uri": "https://localhost:8080/"
        },
        "id": "eb717efb",
        "outputId": "a5291f53-e9f0-4674-913c-b9972a0e2525"
      },
      "outputs": [
        {
          "data": {
            "text/plain": [
              "Indicação do Padrão de Desempenho\n",
              "0    2133\n",
              "1     339\n",
              "Name: count, dtype: int64"
            ]
          },
          "execution_count": 36,
          "metadata": {},
          "output_type": "execute_result"
        }
      ],
      "source": [
        "df['Indicação do Padrão de Desempenho'].value_counts()"
      ]
    },
    {
      "cell_type": "code",
      "execution_count": 37,
      "id": "22e-qu2l-lJw",
      "metadata": {
        "id": "22e-qu2l-lJw"
      },
      "outputs": [],
      "source": [
        "features = df.drop(['Indicação do Padrão de Desempenho','Município','Escola'],axis=1).columns"
      ]
    },
    {
      "cell_type": "code",
      "execution_count": 38,
      "id": "3cPB0R7S_tqE",
      "metadata": {
        "id": "3cPB0R7S_tqE"
      },
      "outputs": [],
      "source": [
        "from sklearn.linear_model import LogisticRegression\n",
        "from sklearn.model_selection import train_test_split\n",
        "from sklearn.metrics import accuracy_score, f1_score\n",
        "from scipy.optimize import curve_fit\n"
      ]
    },
    {
      "cell_type": "code",
      "execution_count": 39,
      "id": "337cbf3f",
      "metadata": {
        "id": "337cbf3f"
      },
      "outputs": [],
      "source": [
        "\n",
        "ncols=[]\n",
        "acu=[]\n",
        "f1=[]\n",
        "tt=[]\n",
        "\n",
        "for i in range(1,len(features)+1):\n",
        "\n",
        "    start=time.time()\n",
        "    X=df[features[0:i]]\n",
        "    y=df['Indicação do Padrão de Desempenho']\n",
        "    X_train,X_test, y_train,y_test=train_test_split(X,y,random_state=42)\n",
        "\n",
        "    clf=LogisticRegression(random_state=42,max_iter=10000)\n",
        "    clf.fit(X_train,y_train)\n",
        "    ypred=clf.predict(X_test)\n",
        "\n",
        "    end=time.time()\n",
        "\n",
        "    tt.append(end-start)\n",
        "    acu.append(accuracy_score(ypred,y_test))\n",
        "    f1.append(f1_score(ypred,y_test))\n",
        "\n",
        "    # print(end-start,accuracy_score(ypred,y_test),f1_score(ypred,y_test))\n",
        "\n"
      ]
    },
    {
      "cell_type": "code",
      "execution_count": 40,
      "id": "8tW-n8ZW_-Xk",
      "metadata": {
        "id": "8tW-n8ZW_-Xk"
      },
      "outputs": [],
      "source": [
        "ncols=list(range(1,len(features)+1))"
      ]
    },
    {
      "cell_type": "code",
      "execution_count": 41,
      "id": "vSWOo_2nAGkI",
      "metadata": {
        "colab": {
          "base_uri": "https://localhost:8080/",
          "height": 467
        },
        "id": "vSWOo_2nAGkI",
        "outputId": "1385e356-aaa4-41a5-e0e3-982cdc616046"
      },
      "outputs": [
        {
          "data": {
            "text/plain": [
              "<matplotlib.collections.PathCollection at 0x281a9ea50>"
            ]
          },
          "execution_count": 41,
          "metadata": {},
          "output_type": "execute_result"
        },
        {
          "data": {
            "image/png": "[encoded data removed]",
            "text/plain": [
              "<Figure size 640x480 with 1 Axes>"
            ]
          },
          "metadata": {},
          "output_type": "display_data"
        }
      ],
      "source": [
        "plt.xlabel('N_COLUNAS')\n",
        "plt.ylabel('TEMPO')\n",
        "plt.grid(alpha=0.2)\n",
        "plt.scatter(ncols,tt)"
      ]
    },
    {
      "cell_type": "code",
      "execution_count": 42,
      "id": "XMV42XP5Ahzh",
      "metadata": {
        "colab": {
          "base_uri": "https://localhost:8080/",
          "height": 471
        },
        "id": "XMV42XP5Ahzh",
        "outputId": "36094637-5f7f-4b6d-babe-192b8f1d1791"
      },
      "outputs": [
        {
          "data": {
            "text/plain": [
              "<matplotlib.collections.PathCollection at 0x281b16a90>"
            ]
          },
          "execution_count": 42,
          "metadata": {},
          "output_type": "execute_result"
        },
        {
          "data": {
            "image/png": "[encoded data removed]",
            "text/plain": [
              "<Figure size 640x480 with 1 Axes>"
            ]
          },
          "metadata": {},
          "output_type": "display_data"
        }
      ],
      "source": [
        "plt.xlabel('N_COLUNAS')\n",
        "plt.ylabel('ACURACIA')\n",
        "plt.grid(alpha=0.2)\n",
        "plt.scatter(ncols,acu)"
      ]
    },
    {
      "cell_type": "code",
      "execution_count": 43,
      "id": "LUWFPiylDt0v",
      "metadata": {
        "id": "LUWFPiylDt0v"
      },
      "outputs": [],
      "source": [
        "from sklearn.preprocessing import MinMaxScaler\n",
        "scaler=MinMaxScaler()"
      ]
    },
    {
      "cell_type": "code",
      "execution_count": 44,
      "id": "YIDNEAGVA0HW",
      "metadata": {
        "id": "YIDNEAGVA0HW"
      },
      "outputs": [],
      "source": [
        "# featuresorted=pd.DataFrame(data=scaler.fit_transform(df[features]),columns=features).var().sort_values(ascending=False).index"
      ]
    },
    {
      "cell_type": "code",
      "execution_count": 45,
      "id": "COm2ISvIA81q",
      "metadata": {
        "colab": {
          "base_uri": "https://localhost:8080/"
        },
        "id": "COm2ISvIA81q",
        "outputId": "6d0e7151-977f-448a-b922-0adb8c7b042c"
      },
      "outputs": [
        {
          "data": {
            "text/plain": [
              "Index(['D16', 'D42', 'D52', 'D40', 'D57', 'D78', 'D67', 'D65', 'D28', 'D19',\n",
              "       'D54', 'D55', 'D53', 'D64', 'D58', 'D50', 'D72', 'D24', 'D71', 'D76',\n",
              "       'D51', 'D49', 'D56', 'D20'],\n",
              "      dtype='object')"
            ]
          },
          "execution_count": 45,
          "metadata": {},
          "output_type": "execute_result"
        }
      ],
      "source": [
        "featuresorted=pd.DataFrame(data=df[features],columns=features).var().sort_values(ascending=False).index\n",
        "featuresorted"
      ]
    },
    {
      "cell_type": "code",
      "execution_count": 46,
      "id": "Y1LTedU4C3sb",
      "metadata": {
        "id": "Y1LTedU4C3sb"
      },
      "outputs": [],
      "source": [
        "ncols_s=[]\n",
        "acu_s=[]\n",
        "f1_s=[]\n",
        "tt_s=[]\n",
        "\n",
        "for i in range(1,len(featuresorted)+1):\n",
        "\n",
        "    start=time.time()\n",
        "    X=df[featuresorted[0:i]]\n",
        "    y=df['Indicação do Padrão de Desempenho']\n",
        "    X_train,X_test, y_train,y_test=train_test_split(X,y,random_state=42)\n",
        "\n",
        "    clf=LogisticRegression(random_state=42,max_iter=10000)\n",
        "    clf.fit(X_train,y_train)\n",
        "    ypred=clf.predict(X_test)\n",
        "\n",
        "    end=time.time()\n",
        "\n",
        "    tt_s.append(end-start)\n",
        "    acu_s.append(accuracy_score(ypred,y_test))\n",
        "    f1_s.append(f1_score(ypred,y_test))\n",
        "    ncols_s.append(i)\n",
        "\n",
        "    #print(end-start,accuracy_score(ypred,y_test),f1_score(ypred,y_test))\n",
        "\n"
      ]
    },
    {
      "cell_type": "code",
      "execution_count": 47,
      "id": "Gk0mw6ivDArp",
      "metadata": {
        "colab": {
          "base_uri": "https://localhost:8080/",
          "height": 505
        },
        "id": "Gk0mw6ivDArp",
        "outputId": "9a43ccc1-aa79-4d65-ad39-44d68e68166f"
      },
      "outputs": [
        {
          "name": "stderr",
          "output_type": "stream",
          "text": [
            "No artists with labels found to put in legend.  Note that artists whose label start with an underscore are ignored when legend() is called with no argument.\n"
          ]
        },
        {
          "data": {
            "text/plain": [
              "<matplotlib.legend.Legend at 0x281b55690>"
            ]
          },
          "execution_count": 47,
          "metadata": {},
          "output_type": "execute_result"
        },
        {
          "data": {
            "image/png": "[encoded data removed]",
            "text/plain": [
              "<Figure size 640x480 with 1 Axes>"
            ]
          },
          "metadata": {},
          "output_type": "display_data"
        }
      ],
      "source": [
        "plt.xlabel('N_COLUNAS')\n",
        "plt.ylabel('TEMPO')\n",
        "plt.grid(alpha=0.2)\n",
        "plt.scatter(ncols_s,tt_s, color='red')\n",
        "plt.scatter(ncols,tt, color='blue')\n",
        "plt.legend()"
      ]
    },
    {
      "cell_type": "code",
      "execution_count": 48,
      "id": "arcZ7S5xDF4-",
      "metadata": {
        "colab": {
          "base_uri": "https://localhost:8080/",
          "height": 467
        },
        "id": "arcZ7S5xDF4-",
        "outputId": "d8a05ba2-a1ea-481f-b6ed-a7c787fb6873"
      },
      "outputs": [
        {
          "data": {
            "text/plain": [
              "<matplotlib.collections.PathCollection at 0x281c37510>"
            ]
          },
          "execution_count": 48,
          "metadata": {},
          "output_type": "execute_result"
        },
        {
          "data": {
            "image/png": "[encoded data removed]",
            "text/plain": [
              "<Figure size 640x480 with 1 Axes>"
            ]
          },
          "metadata": {},
          "output_type": "display_data"
        }
      ],
      "source": [
        "plt.xlabel('N_COLUNAS')\n",
        "plt.ylabel('ACURACIA')\n",
        "plt.grid(alpha=0.2)\n",
        "plt.scatter(ncols_s,acu_s, color='red')\n",
        "plt.scatter(ncols,acu, color='blue')"
      ]
    },
    {
      "cell_type": "code",
      "execution_count": 49,
      "id": "TIgFcLpdVi3e",
      "metadata": {
        "id": "TIgFcLpdVi3e"
      },
      "outputs": [],
      "source": [
        "from sklearn.ensemble import RandomForestClassifier"
      ]
    },
    {
      "cell_type": "code",
      "execution_count": 50,
      "id": "OcNqieAKWyCa",
      "metadata": {
        "id": "OcNqieAKWyCa"
      },
      "outputs": [],
      "source": [
        "ncols_a=[]\n",
        "acu_a=[]\n",
        "f1_a=[]\n",
        "tt_a=[]\n",
        "\n",
        "for i in range(1,len(featuresorted)+1):\n",
        "  start=time.time()\n",
        "  X=df[featuresorted[0:i]]\n",
        "  y=df['Indicação do Padrão de Desempenho']\n",
        "  X_train,X_test, y_train,y_test=train_test_split(X,y,random_state=42)\n",
        "\n",
        "  clf=RandomForestClassifier(random_state=42)\n",
        "  clf.fit(X_train,y_train)\n",
        "  ypred=clf.predict(X_test)\n",
        "\n",
        "  end=time.time()\n",
        "\n",
        "  tt_a.append(end-start)\n",
        "  acu_a.append(accuracy_score(ypred,y_test))\n",
        "  f1_a.append(f1_score(ypred,y_test))\n",
        "  ncols_a.append(i)\n",
        "\n",
        "# print(end-start,accuracy_score(ypred,y_test),f1_score(ypred,y_test))\n",
        "\n"
      ]
    },
    {
      "cell_type": "code",
      "execution_count": 51,
      "id": "ZAUoi5f_ctHY",
      "metadata": {
        "colab": {
          "base_uri": "https://localhost:8080/",
          "height": 467
        },
        "id": "ZAUoi5f_ctHY",
        "outputId": "da7c1a52-a6b2-49d6-9d05-48912f775d9c"
      },
      "outputs": [
        {
          "data": {
            "text/plain": [
              "<matplotlib.legend.Legend at 0x281336d50>"
            ]
          },
          "execution_count": 51,
          "metadata": {},
          "output_type": "execute_result"
        },
        {
          "data": {
            "image/png": "[encoded data removed]",
            "text/plain": [
              "<Figure size 640x480 with 1 Axes>"
            ]
          },
          "metadata": {},
          "output_type": "display_data"
        }
      ],
      "source": [
        "plt.xlabel('N_COLUNAS')\n",
        "plt.ylabel('TEMPO')\n",
        "plt.grid(alpha=0.2)\n",
        "plt.plot(ncols,tt, color='blue', label=\"aleatório\")\n",
        "plt.plot(ncols_s,tt_s, color='red', label=\"ordenado\")\n",
        "plt.plot(ncols_a,tt_a, color='green', label=\"feature importance\")\n",
        "plt.legend()"
      ]
    },
    {
      "cell_type": "code",
      "execution_count": 52,
      "id": "yEx19dECciIP",
      "metadata": {
        "colab": {
          "base_uri": "https://localhost:8080/",
          "height": 449
        },
        "id": "yEx19dECciIP",
        "outputId": "0d1d3280-92d9-452b-a795-5eaf4f761c29"
      },
      "outputs": [
        {
          "data": {
            "image/png": "[encoded data removed]",
            "text/plain": [
              "<Figure size 640x480 with 1 Axes>"
            ]
          },
          "metadata": {},
          "output_type": "display_data"
        }
      ],
      "source": [
        "plt.xlabel('N_COLUNAS')\n",
        "plt.ylabel('ACURACIA')\n",
        "plt.grid(alpha=0.2)\n",
        "plt.plot(ncols,acu, color='blue' , label=\"aleatório\")\n",
        "plt.plot(ncols_s,acu_s, color='red', label=\"ordenado\")\n",
        "plt.plot(ncols_a,acu_a, color='green', label=\"feature importance\")\n",
        "plt.legend();"
      ]
    }
  ],
  "metadata": {
    "colab": {
      "provenance": []
    },
    "hide_input": false,
    "kernelspec": {
      "display_name": "Python 3",
      "language": "python",
      "name": "python3"
    },
    "language_info": {
      "codemirror_mode": {
        "name": "ipython",
        "version": 3
      },
      "file_extension": ".py",
      "mimetype": "text/x-python",
      "name": "python",
      "nbconvert_exporter": "python",
      "pygments_lexer": "ipython3",
      "version": "3.11.5"
    },
    "toc": {
      "base_numbering": 1,
      "nav_menu": {},
      "number_sections": true,
      "sideBar": true,
      "skip_h1_title": false,
      "title_cell": "Table of Contents",
      "title_sidebar": "Contents",
      "toc_cell": false,
      "toc_position": {},
      "toc_section_display": true,
      "toc_window_display": false
    }
  },
  "nbformat": 4,
  "nbformat_minor": 5
}
