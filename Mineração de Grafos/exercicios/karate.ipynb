{
 "cells": [
  {
   "cell_type": "code",
   "execution_count": 1,
   "metadata": {},
   "outputs": [
    {
     "data": {
      "application/vnd.plotly.v1+json": {
       "config": {
        "linkText": "Export to plot.ly",
        "plotlyServerURL": "https://plot.ly",
        "showLink": false
       },
       "data": [
        {
         "hoverinfo": "none",
         "line": {
          "color": "#888",
          "width": 0.5
         },
         "mode": "lines",
         "type": "scatter",
         "x": [
          0.16435364129649277,
          0.18353258672897585,
          null,
          0.16435364129649277,
          0.0969938447590388,
          null,
          0.16435364129649277,
          0.3051654840040458,
          null,
          0.16435364129649277,
          0.27167772201353224,
          null,
          0.16435364129649277,
          0.16447010948017718,
          null,
          0.16435364129649277,
          0.077467483190345,
          null,
          0.16435364129649277,
          0.31213870639029734,
          null,
          0.16435364129649277,
          -0.057414058536729935,
          null,
          0.16435364129649277,
          0.33496436737853424,
          null,
          0.16435364129649277,
          0.09993251749217881,
          null,
          0.16435364129649277,
          0.5714106777120926,
          null,
          0.16435364129649277,
          0.047478867105169215,
          null,
          0.16435364129649277,
          0.5339530984197838,
          null,
          0.16435364129649277,
          -0.09522326927091124,
          null,
          0.16435364129649277,
          0.3883229960856466,
          null,
          0.16435364129649277,
          -0.04711279970117407,
          null,
          0.18353258672897585,
          0.0969938447590388,
          null,
          0.18353258672897585,
          0.3051654840040458,
          null,
          0.18353258672897585,
          0.31213870639029734,
          null,
          0.18353258672897585,
          0.047478867105169215,
          null,
          0.18353258672897585,
          0.5339530984197838,
          null,
          0.18353258672897585,
          -0.09522326927091124,
          null,
          0.18353258672897585,
          0.3883229960856466,
          null,
          0.18353258672897585,
          0.02993104425239318,
          null,
          0.0969938447590388,
          0.3051654840040458,
          null,
          0.0969938447590388,
          0.31213870639029734,
          null,
          0.0969938447590388,
          -0.057414058536729935,
          null,
          0.0969938447590388,
          0.19963393516738043,
          null,
          0.0969938447590388,
          0.047478867105169215,
          null,
          0.0969938447590388,
          -0.13087390911975827,
          null,
          0.0969938447590388,
          -0.23610567901793608,
          null,
          0.0969938447590388,
          -0.20691570047321595,
          null,
          0.3051654840040458,
          0.31213870639029734,
          null,
          0.3051654840040458,
          0.5714106777120926,
          null,
          0.3051654840040458,
          0.047478867105169215,
          null,
          0.27167772201353224,
          0.077467483190345,
          null,
          0.27167772201353224,
          0.33496436737853424,
          null,
          0.16447010948017718,
          0.077467483190345,
          null,
          0.16447010948017718,
          0.33496436737853424,
          null,
          0.16447010948017718,
          0.0696197781534186,
          null,
          0.077467483190345,
          0.0696197781534186,
          null,
          -0.057414058536729935,
          0.02993104425239318,
          null,
          -0.057414058536729935,
          -0.20691570047321595,
          null,
          -0.057414058536729935,
          -0.21095072021121655,
          null,
          0.19963393516738043,
          -0.21095072021121655,
          null,
          0.047478867105169215,
          -0.21095072021121655,
          null,
          -0.1292893455021501,
          -0.20691570047321595,
          null,
          -0.1292893455021501,
          -0.21095072021121655,
          null,
          -0.4406919598319373,
          -0.20691570047321595,
          null,
          -0.4406919598319373,
          -0.21095072021121655,
          null,
          -0.19965092242545635,
          -0.20691570047321595,
          null,
          -0.19965092242545635,
          -0.21095072021121655,
          null,
          -0.09522326927091124,
          -0.21095072021121655,
          null,
          -0.3488645842284378,
          -0.20691570047321595,
          null,
          -0.3488645842284378,
          -0.21095072021121655,
          null,
          -0.5168996221550733,
          -0.20691570047321595,
          null,
          -0.5168996221550733,
          -0.21095072021121655,
          null,
          -0.24887979203235405,
          -0.06841586806141453,
          null,
          -0.24887979203235405,
          -0.13087390911975827,
          null,
          -0.24887979203235405,
          -0.41399624796591467,
          null,
          -0.24887979203235405,
          -0.20691570047321595,
          null,
          -0.24887979203235405,
          -0.21095072021121655,
          null,
          0.06627781071315791,
          -0.06841586806141453,
          null,
          0.06627781071315791,
          -0.13087390911975827,
          null,
          0.06627781071315791,
          -0.04711279970117407,
          null,
          -0.06841586806141453,
          -0.04711279970117407,
          null,
          -0.5660401918089825,
          -0.41399624796591467,
          null,
          -0.5660401918089825,
          -0.21095072021121655,
          null,
          -0.13087390911975827,
          -0.21095072021121655,
          null,
          -0.23610567901793608,
          -0.04711279970117407,
          null,
          -0.23610567901793608,
          -0.21095072021121655,
          null,
          -0.41399624796591467,
          -0.20691570047321595,
          null,
          -0.41399624796591467,
          -0.21095072021121655,
          null,
          0.02993104425239318,
          -0.20691570047321595,
          null,
          0.02993104425239318,
          -0.21095072021121655,
          null,
          -0.04711279970117407,
          -0.20691570047321595,
          null,
          -0.04711279970117407,
          -0.21095072021121655,
          null,
          -0.20691570047321595,
          -0.21095072021121655,
          null
         ],
         "y": [
          -0.3416423841586139,
          -0.1644247201487295,
          null,
          -0.3416423841586139,
          -0.026352342993459454,
          null,
          -0.3416423841586139,
          -0.2222405424387731,
          null,
          -0.3416423841586139,
          -0.6454980046466168,
          null,
          -0.3416423841586139,
          -0.7690249890811106,
          null,
          -0.3416423841586139,
          -0.7370241414713407,
          null,
          -0.3416423841586139,
          -0.10862959923366833,
          null,
          -0.3416423841586139,
          0.06392197680696099,
          null,
          -0.3416423841586139,
          -0.7455075668130784,
          null,
          -0.3416423841586139,
          -0.5862565125240311,
          null,
          -0.3416423841586139,
          -0.3893775470072839,
          null,
          -0.3416423841586139,
          -0.09741084641171224,
          null,
          -0.3416423841586139,
          -0.26588338218294605,
          null,
          -0.3416423841586139,
          -0.23622647543476208,
          null,
          -0.3416423841586139,
          -0.4239328522403267,
          null,
          -0.3416423841586139,
          0.2094901638402793,
          null,
          -0.1644247201487295,
          -0.026352342993459454,
          null,
          -0.1644247201487295,
          -0.2222405424387731,
          null,
          -0.1644247201487295,
          -0.10862959923366833,
          null,
          -0.1644247201487295,
          -0.09741084641171224,
          null,
          -0.1644247201487295,
          -0.26588338218294605,
          null,
          -0.1644247201487295,
          -0.23622647543476208,
          null,
          -0.1644247201487295,
          -0.4239328522403267,
          null,
          -0.1644247201487295,
          0.1779186036439896,
          null,
          -0.026352342993459454,
          -0.2222405424387731,
          null,
          -0.026352342993459454,
          -0.10862959923366833,
          null,
          -0.026352342993459454,
          0.06392197680696099,
          null,
          -0.026352342993459454,
          0.3673690212460252,
          null,
          -0.026352342993459454,
          -0.09741084641171224,
          null,
          -0.026352342993459454,
          0.2548113637954627,
          null,
          -0.026352342993459454,
          0.024614683267980504,
          null,
          -0.026352342993459454,
          0.35743232690199267,
          null,
          -0.2222405424387731,
          -0.10862959923366833,
          null,
          -0.2222405424387731,
          -0.3893775470072839,
          null,
          -0.2222405424387731,
          -0.09741084641171224,
          null,
          -0.6454980046466168,
          -0.7370241414713407,
          null,
          -0.6454980046466168,
          -0.7455075668130784,
          null,
          -0.7690249890811106,
          -0.7370241414713407,
          null,
          -0.7690249890811106,
          -0.7455075668130784,
          null,
          -0.7690249890811106,
          -1,
          null,
          -0.7370241414713407,
          -1,
          null,
          0.06392197680696099,
          0.1779186036439896,
          null,
          0.06392197680696099,
          0.35743232690199267,
          null,
          0.06392197680696099,
          0.28921328273269625,
          null,
          0.3673690212460252,
          0.28921328273269625,
          null,
          -0.09741084641171224,
          0.28921328273269625,
          null,
          0.6122445548109321,
          0.35743232690199267,
          null,
          0.6122445548109321,
          0.28921328273269625,
          null,
          0.25478985189121683,
          0.35743232690199267,
          null,
          0.25478985189121683,
          0.28921328273269625,
          null,
          0.7261682727229927,
          0.35743232690199267,
          null,
          0.7261682727229927,
          0.28921328273269625,
          null,
          -0.23622647543476208,
          0.28921328273269625,
          null,
          0.6555114204145577,
          0.35743232690199267,
          null,
          0.6555114204145577,
          0.28921328273269625,
          null,
          0.35427886521833635,
          0.35743232690199267,
          null,
          0.35427886521833635,
          0.28921328273269625,
          null,
          0.4464446268375077,
          0.4337274090278327,
          null,
          0.4464446268375077,
          0.2548113637954627,
          null,
          0.4464446268375077,
          0.4977078715797225,
          null,
          0.4464446268375077,
          0.35743232690199267,
          null,
          0.4464446268375077,
          0.28921328273269625,
          null,
          0.4725888180804655,
          0.4337274090278327,
          null,
          0.4725888180804655,
          0.2548113637954627,
          null,
          0.4725888180804655,
          0.2094901638402793,
          null,
          0.4337274090278327,
          0.2094901638402793,
          null,
          0.5611987939675008,
          0.4977078715797225,
          null,
          0.5611987939675008,
          0.28921328273269625,
          null,
          0.2548113637954627,
          0.28921328273269625,
          null,
          0.024614683267980504,
          0.2094901638402793,
          null,
          0.024614683267980504,
          0.28921328273269625,
          null,
          0.4977078715797225,
          0.35743232690199267,
          null,
          0.4977078715797225,
          0.28921328273269625,
          null,
          0.1779186036439896,
          0.35743232690199267,
          null,
          0.1779186036439896,
          0.28921328273269625,
          null,
          0.2094901638402793,
          0.35743232690199267,
          null,
          0.2094901638402793,
          0.28921328273269625,
          null,
          0.35743232690199267,
          0.28921328273269625,
          null
         ]
        },
        {
         "hoverinfo": "text",
         "marker": {
          "color": [
           16,
           9,
           10,
           6,
           3,
           4,
           4,
           4,
           5,
           2,
           3,
           1,
           2,
           5,
           2,
           2,
           2,
           2,
           2,
           3,
           2,
           2,
           2,
           5,
           3,
           3,
           2,
           4,
           3,
           4,
           4,
           6,
           12,
           17
          ],
          "colorscale": [
           [
            0,
            "rgb(255,255,217)"
           ],
           [
            0.125,
            "rgb(237,248,177)"
           ],
           [
            0.25,
            "rgb(199,233,180)"
           ],
           [
            0.375,
            "rgb(127,205,187)"
           ],
           [
            0.5,
            "rgb(65,182,196)"
           ],
           [
            0.625,
            "rgb(29,145,192)"
           ],
           [
            0.75,
            "rgb(34,94,168)"
           ],
           [
            0.875,
            "rgb(37,52,148)"
           ],
           [
            1,
            "rgb(8,29,88)"
           ]
          ],
          "line": {
           "width": 2
          },
          "showscale": true,
          "size": 10
         },
         "mode": "markers",
         "text": [
          "# of connections: 16",
          "# of connections: 9",
          "# of connections: 10",
          "# of connections: 6",
          "# of connections: 3",
          "# of connections: 4",
          "# of connections: 4",
          "# of connections: 4",
          "# of connections: 5",
          "# of connections: 2",
          "# of connections: 3",
          "# of connections: 1",
          "# of connections: 2",
          "# of connections: 5",
          "# of connections: 2",
          "# of connections: 2",
          "# of connections: 2",
          "# of connections: 2",
          "# of connections: 2",
          "# of connections: 3",
          "# of connections: 2",
          "# of connections: 2",
          "# of connections: 2",
          "# of connections: 5",
          "# of connections: 3",
          "# of connections: 3",
          "# of connections: 2",
          "# of connections: 4",
          "# of connections: 3",
          "# of connections: 4",
          "# of connections: 4",
          "# of connections: 6",
          "# of connections: 12",
          "# of connections: 17"
         ],
         "type": "scatter",
         "x": [
          0.16435364129649277,
          0.18353258672897585,
          0.0969938447590388,
          0.3051654840040458,
          0.27167772201353224,
          0.16447010948017718,
          0.077467483190345,
          0.31213870639029734,
          -0.057414058536729935,
          0.19963393516738043,
          0.33496436737853424,
          0.09993251749217881,
          0.5714106777120926,
          0.047478867105169215,
          -0.1292893455021501,
          -0.4406919598319373,
          0.0696197781534186,
          0.5339530984197838,
          -0.19965092242545635,
          -0.09522326927091124,
          -0.3488645842284378,
          0.3883229960856466,
          -0.5168996221550733,
          -0.24887979203235405,
          0.06627781071315791,
          -0.06841586806141453,
          -0.5660401918089825,
          -0.13087390911975827,
          -0.23610567901793608,
          -0.41399624796591467,
          0.02993104425239318,
          -0.04711279970117407,
          -0.20691570047321595,
          -0.21095072021121655
         ],
         "y": [
          -0.3416423841586139,
          -0.1644247201487295,
          -0.026352342993459454,
          -0.2222405424387731,
          -0.6454980046466168,
          -0.7690249890811106,
          -0.7370241414713407,
          -0.10862959923366833,
          0.06392197680696099,
          0.3673690212460252,
          -0.7455075668130784,
          -0.5862565125240311,
          -0.3893775470072839,
          -0.09741084641171224,
          0.6122445548109321,
          0.25478985189121683,
          -1,
          -0.26588338218294605,
          0.7261682727229927,
          -0.23622647543476208,
          0.6555114204145577,
          -0.4239328522403267,
          0.35427886521833635,
          0.4464446268375077,
          0.4725888180804655,
          0.4337274090278327,
          0.5611987939675008,
          0.2548113637954627,
          0.024614683267980504,
          0.4977078715797225,
          0.1779186036439896,
          0.2094901638402793,
          0.35743232690199267,
          0.28921328273269625
         ]
        }
       ],
       "layout": {
        "annotations": [
         {
          "showarrow": false,
          "text": "Python code: <a href='https://www.plotly.com'> Plotly</a>",
          "x": 0.005,
          "xref": "paper",
          "y": -0.002,
          "yref": "paper"
         }
        ],
        "hovermode": "closest",
        "margin": {
         "b": 20,
         "l": 5,
         "r": 5,
         "t": 40
        },
        "showlegend": false,
        "template": {
         "data": {
          "bar": [
           {
            "error_x": {
             "color": "#2a3f5f"
            },
            "error_y": {
             "color": "#2a3f5f"
            },
            "marker": {
             "line": {
              "color": "#E5ECF6",
              "width": 0.5
             },
             "pattern": {
              "fillmode": "overlay",
              "size": 10,
              "solidity": 0.2
             }
            },
            "type": "bar"
           }
          ],
          "barpolar": [
           {
            "marker": {
             "line": {
              "color": "#E5ECF6",
              "width": 0.5
             },
             "pattern": {
              "fillmode": "overlay",
              "size": 10,
              "solidity": 0.2
             }
            },
            "type": "barpolar"
           }
          ],
          "carpet": [
           {
            "aaxis": {
             "endlinecolor": "#2a3f5f",
             "gridcolor": "white",
             "linecolor": "white",
             "minorgridcolor": "white",
             "startlinecolor": "#2a3f5f"
            },
            "baxis": {
             "endlinecolor": "#2a3f5f",
             "gridcolor": "white",
             "linecolor": "white",
             "minorgridcolor": "white",
             "startlinecolor": "#2a3f5f"
            },
            "type": "carpet"
           }
          ],
          "choropleth": [
           {
            "colorbar": {
             "outlinewidth": 0,
             "ticks": ""
            },
            "type": "choropleth"
           }
          ],
          "contour": [
           {
            "colorbar": {
             "outlinewidth": 0,
             "ticks": ""
            },
            "colorscale": [
             [
              0,
              "#0d0887"
             ],
             [
              0.1111111111111111,
              "#46039f"
             ],
             [
              0.2222222222222222,
              "#7201a8"
             ],
             [
              0.3333333333333333,
              "#9c179e"
             ],
             [
              0.4444444444444444,
              "#bd3786"
             ],
             [
              0.5555555555555556,
              "#d8576b"
             ],
             [
              0.6666666666666666,
              "#ed7953"
             ],
             [
              0.7777777777777778,
              "#fb9f3a"
             ],
             [
              0.8888888888888888,
              "#fdca26"
             ],
             [
              1,
              "#f0f921"
             ]
            ],
            "type": "contour"
           }
          ],
          "contourcarpet": [
           {
            "colorbar": {
             "outlinewidth": 0,
             "ticks": ""
            },
            "type": "contourcarpet"
           }
          ],
          "heatmap": [
           {
            "colorbar": {
             "outlinewidth": 0,
             "ticks": ""
            },
            "colorscale": [
             [
              0,
              "#0d0887"
             ],
             [
              0.1111111111111111,
              "#46039f"
             ],
             [
              0.2222222222222222,
              "#7201a8"
             ],
             [
              0.3333333333333333,
              "#9c179e"
             ],
             [
              0.4444444444444444,
              "#bd3786"
             ],
             [
              0.5555555555555556,
              "#d8576b"
             ],
             [
              0.6666666666666666,
              "#ed7953"
             ],
             [
              0.7777777777777778,
              "#fb9f3a"
             ],
             [
              0.8888888888888888,
              "#fdca26"
             ],
             [
              1,
              "#f0f921"
             ]
            ],
            "type": "heatmap"
           }
          ],
          "heatmapgl": [
           {
            "colorbar": {
             "outlinewidth": 0,
             "ticks": ""
            },
            "colorscale": [
             [
              0,
              "#0d0887"
             ],
             [
              0.1111111111111111,
              "#46039f"
             ],
             [
              0.2222222222222222,
              "#7201a8"
             ],
             [
              0.3333333333333333,
              "#9c179e"
             ],
             [
              0.4444444444444444,
              "#bd3786"
             ],
             [
              0.5555555555555556,
              "#d8576b"
             ],
             [
              0.6666666666666666,
              "#ed7953"
             ],
             [
              0.7777777777777778,
              "#fb9f3a"
             ],
             [
              0.8888888888888888,
              "#fdca26"
             ],
             [
              1,
              "#f0f921"
             ]
            ],
            "type": "heatmapgl"
           }
          ],
          "histogram": [
           {
            "marker": {
             "pattern": {
              "fillmode": "overlay",
              "size": 10,
              "solidity": 0.2
             }
            },
            "type": "histogram"
           }
          ],
          "histogram2d": [
           {
            "colorbar": {
             "outlinewidth": 0,
             "ticks": ""
            },
            "colorscale": [
             [
              0,
              "#0d0887"
             ],
             [
              0.1111111111111111,
              "#46039f"
             ],
             [
              0.2222222222222222,
              "#7201a8"
             ],
             [
              0.3333333333333333,
              "#9c179e"
             ],
             [
              0.4444444444444444,
              "#bd3786"
             ],
             [
              0.5555555555555556,
              "#d8576b"
             ],
             [
              0.6666666666666666,
              "#ed7953"
             ],
             [
              0.7777777777777778,
              "#fb9f3a"
             ],
             [
              0.8888888888888888,
              "#fdca26"
             ],
             [
              1,
              "#f0f921"
             ]
            ],
            "type": "histogram2d"
           }
          ],
          "histogram2dcontour": [
           {
            "colorbar": {
             "outlinewidth": 0,
             "ticks": ""
            },
            "colorscale": [
             [
              0,
              "#0d0887"
             ],
             [
              0.1111111111111111,
              "#46039f"
             ],
             [
              0.2222222222222222,
              "#7201a8"
             ],
             [
              0.3333333333333333,
              "#9c179e"
             ],
             [
              0.4444444444444444,
              "#bd3786"
             ],
             [
              0.5555555555555556,
              "#d8576b"
             ],
             [
              0.6666666666666666,
              "#ed7953"
             ],
             [
              0.7777777777777778,
              "#fb9f3a"
             ],
             [
              0.8888888888888888,
              "#fdca26"
             ],
             [
              1,
              "#f0f921"
             ]
            ],
            "type": "histogram2dcontour"
           }
          ],
          "mesh3d": [
           {
            "colorbar": {
             "outlinewidth": 0,
             "ticks": ""
            },
            "type": "mesh3d"
           }
          ],
          "parcoords": [
           {
            "line": {
             "colorbar": {
              "outlinewidth": 0,
              "ticks": ""
             }
            },
            "type": "parcoords"
           }
          ],
          "pie": [
           {
            "automargin": true,
            "type": "pie"
           }
          ],
          "scatter": [
           {
            "fillpattern": {
             "fillmode": "overlay",
             "size": 10,
             "solidity": 0.2
            },
            "type": "scatter"
           }
          ],
          "scatter3d": [
           {
            "line": {
             "colorbar": {
              "outlinewidth": 0,
              "ticks": ""
             }
            },
            "marker": {
             "colorbar": {
              "outlinewidth": 0,
              "ticks": ""
             }
            },
            "type": "scatter3d"
           }
          ],
          "scattercarpet": [
           {
            "marker": {
             "colorbar": {
              "outlinewidth": 0,
              "ticks": ""
             }
            },
            "type": "scattercarpet"
           }
          ],
          "scattergeo": [
           {
            "marker": {
             "colorbar": {
              "outlinewidth": 0,
              "ticks": ""
             }
            },
            "type": "scattergeo"
           }
          ],
          "scattergl": [
           {
            "marker": {
             "colorbar": {
              "outlinewidth": 0,
              "ticks": ""
             }
            },
            "type": "scattergl"
           }
          ],
          "scattermapbox": [
           {
            "marker": {
             "colorbar": {
              "outlinewidth": 0,
              "ticks": ""
             }
            },
            "type": "scattermapbox"
           }
          ],
          "scatterpolar": [
           {
            "marker": {
             "colorbar": {
              "outlinewidth": 0,
              "ticks": ""
             }
            },
            "type": "scatterpolar"
           }
          ],
          "scatterpolargl": [
           {
            "marker": {
             "colorbar": {
              "outlinewidth": 0,
              "ticks": ""
             }
            },
            "type": "scatterpolargl"
           }
          ],
          "scatterternary": [
           {
            "marker": {
             "colorbar": {
              "outlinewidth": 0,
              "ticks": ""
             }
            },
            "type": "scatterternary"
           }
          ],
          "surface": [
           {
            "colorbar": {
             "outlinewidth": 0,
             "ticks": ""
            },
            "colorscale": [
             [
              0,
              "#0d0887"
             ],
             [
              0.1111111111111111,
              "#46039f"
             ],
             [
              0.2222222222222222,
              "#7201a8"
             ],
             [
              0.3333333333333333,
              "#9c179e"
             ],
             [
              0.4444444444444444,
              "#bd3786"
             ],
             [
              0.5555555555555556,
              "#d8576b"
             ],
             [
              0.6666666666666666,
              "#ed7953"
             ],
             [
              0.7777777777777778,
              "#fb9f3a"
             ],
             [
              0.8888888888888888,
              "#fdca26"
             ],
             [
              1,
              "#f0f921"
             ]
            ],
            "type": "surface"
           }
          ],
          "table": [
           {
            "cells": {
             "fill": {
              "color": "#EBF0F8"
             },
             "line": {
              "color": "white"
             }
            },
            "header": {
             "fill": {
              "color": "#C8D4E3"
             },
             "line": {
              "color": "white"
             }
            },
            "type": "table"
           }
          ]
         },
         "layout": {
          "annotationdefaults": {
           "arrowcolor": "#2a3f5f",
           "arrowhead": 0,
           "arrowwidth": 1
          },
          "autotypenumbers": "strict",
          "coloraxis": {
           "colorbar": {
            "outlinewidth": 0,
            "ticks": ""
           }
          },
          "colorscale": {
           "diverging": [
            [
             0,
             "#8e0152"
            ],
            [
             0.1,
             "#c51b7d"
            ],
            [
             0.2,
             "#de77ae"
            ],
            [
             0.3,
             "#f1b6da"
            ],
            [
             0.4,
             "#fde0ef"
            ],
            [
             0.5,
             "#f7f7f7"
            ],
            [
             0.6,
             "#e6f5d0"
            ],
            [
             0.7,
             "#b8e186"
            ],
            [
             0.8,
             "#7fbc41"
            ],
            [
             0.9,
             "#4d9221"
            ],
            [
             1,
             "#276419"
            ]
           ],
           "sequential": [
            [
             0,
             "#0d0887"
            ],
            [
             0.1111111111111111,
             "#46039f"
            ],
            [
             0.2222222222222222,
             "#7201a8"
            ],
            [
             0.3333333333333333,
             "#9c179e"
            ],
            [
             0.4444444444444444,
             "#bd3786"
            ],
            [
             0.5555555555555556,
             "#d8576b"
            ],
            [
             0.6666666666666666,
             "#ed7953"
            ],
            [
             0.7777777777777778,
             "#fb9f3a"
            ],
            [
             0.8888888888888888,
             "#fdca26"
            ],
            [
             1,
             "#f0f921"
            ]
           ],
           "sequentialminus": [
            [
             0,
             "#0d0887"
            ],
            [
             0.1111111111111111,
             "#46039f"
            ],
            [
             0.2222222222222222,
             "#7201a8"
            ],
            [
             0.3333333333333333,
             "#9c179e"
            ],
            [
             0.4444444444444444,
             "#bd3786"
            ],
            [
             0.5555555555555556,
             "#d8576b"
            ],
            [
             0.6666666666666666,
             "#ed7953"
            ],
            [
             0.7777777777777778,
             "#fb9f3a"
            ],
            [
             0.8888888888888888,
             "#fdca26"
            ],
            [
             1,
             "#f0f921"
            ]
           ]
          },
          "colorway": [
           "#636efa",
           "#EF553B",
           "#00cc96",
           "#ab63fa",
           "#FFA15A",
           "#19d3f3",
           "#FF6692",
           "#B6E880",
           "#FF97FF",
           "#FECB52"
          ],
          "font": {
           "color": "#2a3f5f"
          },
          "geo": {
           "bgcolor": "white",
           "lakecolor": "white",
           "landcolor": "#E5ECF6",
           "showlakes": true,
           "showland": true,
           "subunitcolor": "white"
          },
          "hoverlabel": {
           "align": "left"
          },
          "hovermode": "closest",
          "mapbox": {
           "style": "light"
          },
          "paper_bgcolor": "white",
          "plot_bgcolor": "#E5ECF6",
          "polar": {
           "angularaxis": {
            "gridcolor": "white",
            "linecolor": "white",
            "ticks": ""
           },
           "bgcolor": "#E5ECF6",
           "radialaxis": {
            "gridcolor": "white",
            "linecolor": "white",
            "ticks": ""
           }
          },
          "scene": {
           "xaxis": {
            "backgroundcolor": "#E5ECF6",
            "gridcolor": "white",
            "gridwidth": 2,
            "linecolor": "white",
            "showbackground": true,
            "ticks": "",
            "zerolinecolor": "white"
           },
           "yaxis": {
            "backgroundcolor": "#E5ECF6",
            "gridcolor": "white",
            "gridwidth": 2,
            "linecolor": "white",
            "showbackground": true,
            "ticks": "",
            "zerolinecolor": "white"
           },
           "zaxis": {
            "backgroundcolor": "#E5ECF6",
            "gridcolor": "white",
            "gridwidth": 2,
            "linecolor": "white",
            "showbackground": true,
            "ticks": "",
            "zerolinecolor": "white"
           }
          },
          "shapedefaults": {
           "line": {
            "color": "#2a3f5f"
           }
          },
          "ternary": {
           "aaxis": {
            "gridcolor": "white",
            "linecolor": "white",
            "ticks": ""
           },
           "baxis": {
            "gridcolor": "white",
            "linecolor": "white",
            "ticks": ""
           },
           "bgcolor": "#E5ECF6",
           "caxis": {
            "gridcolor": "white",
            "linecolor": "white",
            "ticks": ""
           }
          },
          "title": {
           "x": 0.05
          },
          "xaxis": {
           "automargin": true,
           "gridcolor": "white",
           "linecolor": "white",
           "ticks": "",
           "title": {
            "standoff": 15
           },
           "zerolinecolor": "white",
           "zerolinewidth": 2
          },
          "yaxis": {
           "automargin": true,
           "gridcolor": "white",
           "linecolor": "white",
           "ticks": "",
           "title": {
            "standoff": 15
           },
           "zerolinecolor": "white",
           "zerolinewidth": 2
          }
         }
        },
        "title": {
         "font": {
          "size": 16
         },
         "text": "<br>Network graph made with Python"
        },
        "xaxis": {
         "showgrid": false,
         "showticklabels": false,
         "zeroline": false
        },
        "yaxis": {
         "showgrid": false,
         "showticklabels": false,
         "zeroline": false
        }
       }
      }
     },
     "metadata": {},
     "output_type": "display_data"
    }
   ],
   "source": [
    "import networkx as nx\n",
    "import plotly.graph_objs as go\n",
    "import plotly.offline as py\n",
    "\n",
    "# Create a sample graph\n",
    "G = nx.karate_club_graph()\n",
    "\n",
    "# Generate positions for the nodes\n",
    "pos = nx.spring_layout(G)\n",
    "\n",
    "# Create Edges\n",
    "edge_x = []\n",
    "edge_y = []\n",
    "for edge in G.edges():\n",
    "    x0, y0 = pos[edge[0]]\n",
    "    x1, y1 = pos[edge[1]]\n",
    "    edge_x.extend([x0, x1, None])\n",
    "    edge_y.extend([y0, y1, None])\n",
    "\n",
    "edge_trace = go.Scatter(\n",
    "    x=edge_x, y=edge_y,\n",
    "    line=dict(width=0.5, color='#888'),\n",
    "    hoverinfo='none',\n",
    "    mode='lines')\n",
    "\n",
    "# Create Nodes\n",
    "node_x = []\n",
    "node_y = []\n",
    "for node in G.nodes():\n",
    "    x, y = pos[node]\n",
    "    node_x.append(x)\n",
    "    node_y.append(y)\n",
    "\n",
    "node_trace = go.Scatter(\n",
    "    x=node_x, y=node_y,\n",
    "    mode='markers',\n",
    "    hoverinfo='text',\n",
    "    marker=dict(\n",
    "        showscale=True,\n",
    "        colorscale='YlGnBu',\n",
    "        size=10,\n",
    "        line_width=2))\n",
    "\n",
    "# Set node hover text\n",
    "node_adjacencies = []\n",
    "node_text = []\n",
    "for node, adjacencies in enumerate(G.adjacency()):\n",
    "    node_adjacencies.append(len(adjacencies[1]))\n",
    "    node_text.append('# of connections: '+str(len(adjacencies[1])))\n",
    "\n",
    "node_trace.marker.color = node_adjacencies\n",
    "node_trace.text = node_text\n",
    "\n",
    "# Create the figure\n",
    "fig = go.Figure(data=[edge_trace, node_trace],\n",
    "             layout=go.Layout(\n",
    "                title='<br>Network graph made with Python',\n",
    "                titlefont_size=16,\n",
    "                showlegend=False,\n",
    "                hovermode='closest',\n",
    "                margin=dict(b=20,l=5,r=5,t=40),\n",
    "                annotations=[ dict(\n",
    "                    text=\"Python code: <a href='https://www.plotly.com'> Plotly</a>\",\n",
    "                    showarrow=False,\n",
    "                    xref=\"paper\", yref=\"paper\",\n",
    "                    x=0.005, y=-0.002 ) ],\n",
    "                xaxis=dict(showgrid=False, zeroline=False, showticklabels=False),\n",
    "                yaxis=dict(showgrid=False, zeroline=False, showticklabels=False))\n",
    "                )\n",
    "\n",
    "# Plot the figure\n",
    "py.iplot(fig, filename='networkx')"
   ]
  }
 ],
 "metadata": {
  "kernelspec": {
   "display_name": ".venv",
   "language": "python",
   "name": "python3"
  },
  "language_info": {
   "codemirror_mode": {
    "name": "ipython",
    "version": 3
   },
   "file_extension": ".py",
   "mimetype": "text/x-python",
   "name": "python",
   "nbconvert_exporter": "python",
   "pygments_lexer": "ipython3",
   "version": "3.11.5"
  }
 },
 "nbformat": 4,
 "nbformat_minor": 2
}
