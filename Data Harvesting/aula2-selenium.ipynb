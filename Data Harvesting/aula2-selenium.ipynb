{
 "cells": [
  {
   "cell_type": "code",
   "execution_count": 1,
   "metadata": {},
   "outputs": [
    {
     "name": "stdout",
     "output_type": "stream",
     "text": [
      "Note: you may need to restart the kernel to use updated packages.\n"
     ]
    }
   ],
   "source": [
    "%pip install -q -r requirements.txt"
   ]
  },
  {
   "cell_type": "code",
   "execution_count": 1,
   "metadata": {},
   "outputs": [],
   "source": [
    "from selenium import webdriver\n",
    "from selenium.webdriver.common.by import By\n",
    "from selenium.webdriver.chrome.service import Service\n",
    "from webdriver_manager.chrome import ChromeDriverManager"
   ]
  },
  {
   "cell_type": "code",
   "execution_count": 5,
   "metadata": {},
   "outputs": [
    {
     "name": "stdout",
     "output_type": "stream",
     "text": [
      "1 - Guaíba segue em queda e vai a 4,53 metros em Porto Alegre; SIGA - https://g1.globo.com/rs/rio-grande-do-sul/ao-vivo/tragedia-no-rio-grande-do-sul.ghtml\n",
      "2 - Por que o sistema contra cheias não funcionou em Porto Alegre? Entenda - https://g1.globo.com/meio-ambiente/noticia/2024/05/18/por-que-sistema-contra-cheias-nao-funcionou-em-porto-alegre.ghtml\n",
      "3 - Nova frente fria leva temporais para SC e PR; RS deve ter chuvas isoladas - https://g1.globo.com/meio-ambiente/noticia/2024/05/18/nova-frente-fria-causa-temporais-em-sc-e-no-pr-rs-deve-ter-ceu-nublado-e-chuvas-isoladas-neste-sabado.ghtml\n",
      "4 - Mulher é denunciada por ligar religião de matriz africana à tragédia no RS - https://g1.globo.com/mg/minas-gerais/noticia/2024/05/18/influenciadora-tragedia-rio-grande-do-sul-religioes-matriz-africana-denunciada-pelo-mp.ghtml\n",
      "5 - Relator vota por cassar governador do RJ e vice; julgamento é adiado - https://g1.globo.com/rj/rio-de-janeiro/noticia/2024/05/18/entenda-os-proximos-passos-do-julgamento-do-pedido-de-cassacao-de-claudio-castro-no-tre-rj.ghtml\n",
      "6 - Aborto legal e assistolia: como resolução afeta vítimas de estupro - https://g1.globo.com/saude/noticia/2024/05/18/aborto-assistolia-e-feticidio-o-que-esta-em-jogo-na-resolucao-do-cfm-que-trava-atendimento-a-vitima-de-estupro.ghtml\n",
      "7 - Veja o que falar com seu filho para evitar abusos sexuais - https://g1.globo.com/rj/rio-de-janeiro/noticia/2024/05/18/infancia-despedacada-veja-o-que-falar-com-seu-filho-para-evitar-abusos-sexuais-saiba-identifica-los-e-aprenda-a-denuncia-los.ghtml\n",
      "8 - PF indicia servidora por vazamento no Enem e propõe mais segurança no CNU - https://g1.globo.com/politica/noticia/2024/05/17/pf-indicia-servidora-que-aplicou-provas-por-vazamento-no-enem-e-propoe-seguranca-adicional-no-cnu.ghtml\n"
     ]
    }
   ],
   "source": [
    "service = Service(ChromeDriverManager().install())\n",
    "driver = webdriver.Chrome(service=service)\n",
    "\n",
    "driver.get(\"https://g1.globo.com/\")\n",
    "\n",
    "noticias = driver.find_elements(By.CSS_SELECTOR, \"a.feed-post-link\")\n",
    "for i, noticia in enumerate(noticias):\n",
    "    titulo = noticia.text\n",
    "    link = noticia.get_attribute(\"href\")\n",
    "    print(f\"{i+1} - {titulo} - {link}\")\n",
    "\n",
    "driver.quit()\n",
    "service.stop()\n",
    "\n"
   ]
  }
 ],
 "metadata": {
  "kernelspec": {
   "display_name": ".venv",
   "language": "python",
   "name": "python3"
  },
  "language_info": {
   "codemirror_mode": {
    "name": "ipython",
    "version": 3
   },
   "file_extension": ".py",
   "mimetype": "text/x-python",
   "name": "python",
   "nbconvert_exporter": "python",
   "pygments_lexer": "ipython3",
   "version": "3.11.5"
  }
 },
 "nbformat": 4,
 "nbformat_minor": 2
}
