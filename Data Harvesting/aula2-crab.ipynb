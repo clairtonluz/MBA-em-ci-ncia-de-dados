{
 "cells": [
  {
   "cell_type": "code",
   "execution_count": 1,
   "metadata": {},
   "outputs": [
    {
     "name": "stdout",
     "output_type": "stream",
     "text": [
      "STATUS CODE: 200\n"
     ]
    }
   ],
   "source": [
    "import requests\n",
    "\n",
    "url = 'https://scrapingclub.com/exercise/list_infinite_scroll/'\n",
    "res = requests.get(url)\n",
    "print(f'STATUS CODE: {res.status_code}')"
   ]
  },
  {
   "cell_type": "code",
   "execution_count": 2,
   "metadata": {},
   "outputs": [
    {
     "name": "stdout",
     "output_type": "stream",
     "text": [
      "Titulo da página: Scraping Infinite Scrolling Pages (Ajax) | ScrapingClub\n"
     ]
    }
   ],
   "source": [
    "from bs4 import BeautifulSoup\n",
    "\n",
    "page = requests.get(url)\n",
    "soup = BeautifulSoup(page.content, 'html.parser')\n",
    "title = soup.title.string\n",
    "print(f'Titulo da página: {title}')"
   ]
  },
  {
   "cell_type": "code",
   "execution_count": 5,
   "metadata": {},
   "outputs": [
    {
     "data": {
      "text/plain": [
       "[{'name': 'Short Dress',\n",
       "  'price': '$24.99',\n",
       "  'image': '/static/img/90008-E.jpg'},\n",
       " {'name': 'Patterned Slacks',\n",
       "  'price': '$29.99',\n",
       "  'image': '/static/img/96436-A.jpg'},\n",
       " {'name': 'Short Chiffon Dress',\n",
       "  'price': '$49.99',\n",
       "  'image': '/static/img/93926-B.jpg'},\n",
       " {'name': 'Off-the-shoulder Dress',\n",
       "  'price': '$59.99',\n",
       "  'image': '/static/img/90882-B.jpg'},\n",
       " {'name': 'V-neck Top', 'price': '$24.99', 'image': '/static/img/93756-C.jpg'},\n",
       " {'name': 'Short Chiffon Dress',\n",
       "  'price': '$49.99',\n",
       "  'image': '/static/img/93926-C.jpg'},\n",
       " {'name': 'V-neck Top', 'price': '$24.99', 'image': '/static/img/93756-B.jpg'},\n",
       " {'name': 'V-neck Top', 'price': '$24.99', 'image': '/static/img/93756-D.jpg'},\n",
       " {'name': 'Short Lace Dress',\n",
       "  'price': '$59.99',\n",
       "  'image': '/static/img/96643-A.jpg'},\n",
       " {'name': 'Fitted Dress',\n",
       "  'price': '$34.99',\n",
       "  'image': '/static/img/94766-A.jpg'}]"
      ]
     },
     "execution_count": 5,
     "metadata": {},
     "output_type": "execute_result"
    }
   ],
   "source": [
    "# selecionando os nomes dos produtos e preço\n",
    "top_items = []\n",
    "products = soup.select('div.post')\n",
    "for i, product in enumerate(products):\n",
    "    image = product.select('img')[0].get('src')\n",
    "    # pege o titulo do produto que está dentro de uma tag 'a' que está dentro de uma tag 'h4'\n",
    "    name = product.select('h4 > a')[0].text\n",
    "    price = product.select('h5')[0].text\n",
    "\n",
    "    top_items.append({\n",
    "        'name': name,\n",
    "        'price': price,\n",
    "        'image': image\n",
    "    })\n",
    "\n",
    "top_items"
   ]
  }
 ],
 "metadata": {
  "kernelspec": {
   "display_name": ".venv",
   "language": "python",
   "name": "python3"
  },
  "language_info": {
   "codemirror_mode": {
    "name": "ipython",
    "version": 3
   },
   "file_extension": ".py",
   "mimetype": "text/x-python",
   "name": "python",
   "nbconvert_exporter": "python",
   "pygments_lexer": "ipython3",
   "version": "3.11.5"
  }
 },
 "nbformat": 4,
 "nbformat_minor": 2
}
