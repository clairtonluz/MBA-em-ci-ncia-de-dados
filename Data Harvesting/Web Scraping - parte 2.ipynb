{
 "cells": [
  {
   "cell_type": "markdown",
   "id": "a3368a68",
   "metadata": {},
   "source": [
    "# Web scraping - Parte 2"
   ]
  },
  {
   "cell_type": "markdown",
   "id": "bbfb5968",
   "metadata": {},
   "source": [
    "Na aula de hoje veremos:\n",
    " - Como encontrar elementos em uma página web\n",
    " - Como navegar em diferentes páginas\n",
    " - Como preencher formulários\n",
    " - Como lidar com estratégias anti-scraping\n",
    " - O que são servidores proxies e como utilizá-los\n",
    " - Como bloquear requisições"
   ]
  },
  {
   "cell_type": "markdown",
   "id": "4595a2f1",
   "metadata": {},
   "source": [
    "### Encontrando elementos "
   ]
  },
  {
   "cell_type": "markdown",
   "id": "884baaf9",
   "metadata": {},
   "source": [
    "\n",
    "| ABORDAGEM       | DESCRIÇÃO                                                       | HTML                                                            | SELENIUM                                                                                                           |\n",
    "|:----------------|:----------------------------------------------------------------|:----------------------------------------------------------------|:------------------------------------------------------------------------------------------------------------------|\n",
    "| By.ID           | Seleciona elemento HTML com base no id attribute                | \\<div id=\"s-437\">...\\</div>                                      | find_element(By.ID, \"s-437\")                                                                                      |\n",
    "| By.NAME         | Seleciona elemento HTML com base no name attribute              | \\<input name=\"email\" />                                         | find_element(By.NAME, \"email\") <br> find_elements(By.NAME, \"email\")                                               |\n",
    "| By.XPATH        | Seleciona elemento HTML que dá match no XPath expression        | \\<h1>My <strong>Fantastic</strong> Blog\\</h1>                    | find_element(By.XPATH, \"//h1/strong\") <br> find_elements(By.XPATH, \"//h1/strong\")                                 |\n",
    "| By.LINK_TEXT    | Seleciona elemento \\<a> HTML que contém o texto do link         | \\<a href=\"/\">Home\\</a>                                           | find_element(By.LINK_TEXT, \"Home\") <br> find_elements(By.LINK_TEXT, \"Home\")                                       |\n",
    "| By.TAG_NAME     | Seleciona elemento HTML com base no tag name                    | \\<span>...\\</span>                                               | find_element(By.TAG_NAME, \"span\") <br> find_elements(By.TAG_NAME, \"span\")                                         |\n",
    "| By.CLASS_NAME   | Seleciona elemento HTML com base na class attribute             | \\<div class=\"text-center\"><br> Welcome! <br>    \\</div>                        | find_element(By.CLASSNAME, \"text-center\") <br> find_elements(By.CLASSNAME, \"text-center\")                         |\n",
    "| By.CSS_SELECTOR | Seleciona elemento HTML que dá match a CSS selector             | \\<div class=\"product-card\"> <br>       \\<span class=\"price\"\\> </br> $140 </br> \\</span> <br> \\</div>| find_element(By.CSS_SELECTOR, \".product-card .price\") <br> find_elements(By.CSS_SELECTOR, \".product-card .price\")|\n"
   ]
  },
  {
   "cell_type": "markdown",
   "id": "95f85bda",
   "metadata": {},
   "source": [
    "`find_element`: retorna o primeiro elemento que casa com o padrão buscado<br>\n",
    "`find_elements`: retorna todos os elementos que casam com o padrão buscado     "
   ]
  },
  {
   "cell_type": "markdown",
   "id": "68ddd755",
   "metadata": {},
   "source": [
    "### Bibliotecas"
   ]
  },
  {
   "cell_type": "code",
   "execution_count": 3,
   "id": "87db5e83",
   "metadata": {},
   "outputs": [],
   "source": [
    "import time\n",
    "from selenium import webdriver\n",
    "from selenium.webdriver.common.by import By\n",
    "from selenium.webdriver.chrome.options import Options\n",
    "from selenium.webdriver.support.ui import WebDriverWait\n",
    "from selenium.webdriver.support import expected_conditions as EC\n",
    "\n",
    "\n",
    "from selenium.webdriver.chrome.service import Service\n",
    "from webdriver_manager.chrome import ChromeDriverManager\n",
    "\n",
    "service = Service(ChromeDriverManager().install())\n",
    "\n",
    "options = Options()\n",
    "#options.headlessess = True\n",
    "driver = webdriver.Chrome(service=service)\n",
    "driver.get('https://scrapingclub.com/')"
   ]
  },
  {
   "cell_type": "markdown",
   "id": "27eec714",
   "metadata": {},
   "source": [
    "### Find Element"
   ]
  },
  {
   "cell_type": "code",
   "execution_count": null,
   "id": "5d0f985d",
   "metadata": {},
   "outputs": [],
   "source": [
    "exercise_card1 = driver.find_element(By.CLASS_NAME, 'w-fill.rounded.border')\n",
    "\n",
    "/html/body/div[3]/div[2]/div/div[1]"
   ]
  },
  {
   "cell_type": "markdown",
   "id": "4fc62d35",
   "metadata": {},
   "source": [
    "### Find elements"
   ]
  },
  {
   "cell_type": "code",
   "execution_count": 13,
   "id": "fb1c2b9a",
   "metadata": {},
   "outputs": [
    {
     "name": "stdout",
     "output_type": "stream",
     "text": [
      "3\n",
      "2024-06-09 08:51:22.981990\n",
      "2024-06-02 08:51:22.981990\n",
      "6\n",
      "6\n",
      "É dia de semana\n"
     ]
    }
   ],
   "source": [
    "# crie uma variavel com o dia da semana atual\n",
    "from datetime import datetime\n",
    "from datetime import timedelta\n",
    "\n",
    "now = datetime.now()\n",
    "print(now.weekday())\n",
    "\n",
    "nextSunday = now + timedelta(days=(6-now.weekday()))\n",
    "lastSunday = now - timedelta(days=now.weekday() + 1)\n",
    "print(nextSunday)\n",
    "print(lastSunday)\n",
    "print(nextSunday.weekday())\n",
    "print(lastSunday.weekday())\n",
    "\n",
    "def isWeekday(day):\n",
    "    return day.weekday() < 5\n",
    "# verifique se é de segunda a sexta\n",
    "if now.weekday() < 5:\n",
    "    print('É dia de semana')"
   ]
  },
  {
   "cell_type": "markdown",
   "id": "e0f53491",
   "metadata": {},
   "source": [
    "### Experimentos"
   ]
  },
  {
   "cell_type": "code",
   "execution_count": null,
   "id": "c701f8d0",
   "metadata": {},
   "outputs": [],
   "source": []
  },
  {
   "cell_type": "markdown",
   "id": "3bb81eb1",
   "metadata": {},
   "source": [
    "### Forms"
   ]
  },
  {
   "cell_type": "code",
   "execution_count": null,
   "id": "ac1dd019",
   "metadata": {},
   "outputs": [],
   "source": []
  },
  {
   "cell_type": "markdown",
   "id": "c067d627",
   "metadata": {},
   "source": [
    "### Aguardar condições"
   ]
  },
  {
   "cell_type": "code",
   "execution_count": null,
   "id": "c3d06b45",
   "metadata": {},
   "outputs": [],
   "source": []
  },
  {
   "cell_type": "markdown",
   "id": "76693438",
   "metadata": {},
   "source": [
    "### Páginas com carregamento infinito"
   ]
  },
  {
   "cell_type": "code",
   "execution_count": null,
   "id": "70c17b1e",
   "metadata": {},
   "outputs": [],
   "source": []
  },
  {
   "cell_type": "markdown",
   "id": "6c725ad0",
   "metadata": {},
   "source": [
    "### Navegar em Modo Anônimo"
   ]
  },
  {
   "cell_type": "code",
   "execution_count": null,
   "id": "af3d5ce2",
   "metadata": {},
   "outputs": [],
   "source": []
  },
  {
   "cell_type": "markdown",
   "id": "ca52bfb4",
   "metadata": {},
   "source": [
    "### Capturando cookies"
   ]
  },
  {
   "cell_type": "code",
   "execution_count": null,
   "id": "b0400262",
   "metadata": {},
   "outputs": [],
   "source": []
  },
  {
   "cell_type": "markdown",
   "id": "58f4fb1d",
   "metadata": {},
   "source": [
    "### Contornando bloqueios anti-scraping"
   ]
  },
  {
   "cell_type": "code",
   "execution_count": null,
   "id": "8083921f",
   "metadata": {},
   "outputs": [],
   "source": [
    "from selenium.webdriver import Keys\n",
    "\n",
    "driver = webdriver.Chrome(service=service)\n",
    "driver.get('https://www.g2.com/products/zenrows/reviews')"
   ]
  },
  {
   "cell_type": "code",
   "execution_count": null,
   "id": "7feb1d6c",
   "metadata": {},
   "outputs": [],
   "source": []
  },
  {
   "cell_type": "markdown",
   "id": "05c1b137",
   "metadata": {},
   "source": [
    "#### Headers"
   ]
  },
  {
   "cell_type": "markdown",
   "id": "c4040cf9",
   "metadata": {},
   "source": [
    "![image](http_message.png)"
   ]
  },
  {
   "cell_type": "code",
   "execution_count": null,
   "id": "fcbd67ac",
   "metadata": {},
   "outputs": [],
   "source": []
  },
  {
   "cell_type": "markdown",
   "id": "a86df064",
   "metadata": {},
   "source": [
    "#### User-Agent"
   ]
  },
  {
   "cell_type": "code",
   "execution_count": null,
   "id": "444c91b1",
   "metadata": {},
   "outputs": [],
   "source": [
    "user_agents = [\n",
    "    'Mozilla/5.0 (platform; rv:geckoversion) Gecko/geckotrail Firefox/firefoxversion',\n",
    "    'Mozilla/5.0 (Windows NT 10.0; Win64; x64) AppleWebKit/537.36 (KHTML, like Gecko) Chrome/58.0.3029.110 Safari/537.36',\n",
    "    'Mozilla/5.0 (Windows NT 10.0; Win64; x64; rv:53.0) Gecko/20100101 Firefox/53.0',\n",
    "    'Mozilla/5.0 (Windows NT 10.0; Win64; x64) AppleWebKit/537.36 (KHTML, like Gecko) Chrome/42.0.2311.135 Safari/537.36 Edge/12.246',\n",
    "    'Mozilla/5.0 (Macintosh; Intel Mac OS X 10_15_7) AppleWebKit/605.1.15 (KHTML, like Gecko) Version/14.0.3 Safari/605.1.15'\n",
    "]\n"
   ]
  },
  {
   "cell_type": "code",
   "execution_count": null,
   "id": "0701ea09",
   "metadata": {},
   "outputs": [],
   "source": []
  },
  {
   "cell_type": "markdown",
   "id": "111770ff",
   "metadata": {},
   "source": [
    "#### Headers SEC-CH-UA\n",
    " - SEC >_ Secure<br>\n",
    " - CH  >_ Client Hints<br>\n",
    " - UA  >_ User-Agent<br>"
   ]
  },
  {
   "cell_type": "raw",
   "id": "5296dff7",
   "metadata": {},
   "source": [
    "!pip install selenium-wire"
   ]
  },
  {
   "cell_type": "code",
   "execution_count": null,
   "id": "840db423",
   "metadata": {},
   "outputs": [],
   "source": [
    "from seleniumwire import webdriver\n",
    "\n",
    "user_agent = 'Mozilla/5.0 (Windows NT 10.0; Win64; x64) AppleWebKit/537.36 (KHTML, like Gecko) Chrome/122,0,0,0 Safari/537.36'\n",
    "sec_ch_ua = '\"Google Chrome\";v=\"122\", \" Not;A Brand\";v=\"105\", \"Chromium\";v=\"122\"'\n",
    "referer = 'https://www.google.com'\n",
    "\n",
    "def interceptor(request):\n",
    "    print(request.headers[\"user-agent\"])\n",
    "    del request.headers[\"user-agent\"]\n",
    "    request.headers[\"user-agent\"] = user_agent\n",
    "    request.headers[\"sec-ch-ua\"] = sec_ch_ua\n",
    "    request.headers[\"referer\"] = referer\n",
    "\n"
   ]
  },
  {
   "cell_type": "markdown",
   "id": "cd3d435a",
   "metadata": {},
   "source": [
    "### Proxies"
   ]
  },
  {
   "cell_type": "markdown",
   "id": "52617483",
   "metadata": {},
   "source": [
    "![image](proxy.jpg)"
   ]
  },
  {
   "cell_type": "raw",
   "id": "93018ff2",
   "metadata": {},
   "source": [
    "LISTA DE SERVIDORES PROXY\n",
    "\n",
    "proxy_server_ip = \"154.65.39.8\"\n",
    "proxy_server_ip = \"162.223.94.164\"\n",
    "proxy_server_ip = '12.186.205.123'\n",
    "https://free-proxy-list.net"
   ]
  },
  {
   "cell_type": "markdown",
   "id": "9034a4a8",
   "metadata": {},
   "source": [
    "### Armadilhas para scrapers (Honeypot Traps)\n",
    "\n",
    "**Definição:** Estratégias para atrair, prender e/ou bloquear scrapers\n",
    "\n",
    "#### Como fugir de armadilhas de scrapers\n",
    " - Evite redes públicas\n",
    " - Seja um scraper ético\n",
    " - Use headless browsers\n",
    " - Evite links ocultos\n",
    " - Evite scraper tipo pegue-e-use\n",
    " "
   ]
  },
  {
   "cell_type": "markdown",
   "id": "00990a39",
   "metadata": {},
   "source": [
    "### Acelerando o scraping por redução de requisições\n",
    "#### Bloqueando imagens"
   ]
  },
  {
   "cell_type": "code",
   "execution_count": null,
   "id": "42fc4a47",
   "metadata": {},
   "outputs": [],
   "source": [
    "\n",
    "options = Options()\n",
    "\n",
    "options.experimental_options['prefs'] = {\n",
    "    'profile.managed_default_content_settings.images': 2\n",
    "}\n"
   ]
  },
  {
   "cell_type": "markdown",
   "id": "817991df",
   "metadata": {},
   "source": [
    "#### Bloqueio do JS"
   ]
  },
  {
   "cell_type": "code",
   "execution_count": null,
   "id": "1d053425",
   "metadata": {},
   "outputs": [],
   "source": [
    "options = Options()\n",
    "\n",
    "options.experimental_options['prefs'] = {\n",
    "    'profile.managed_default_content_settings.javascript': 2\n",
    "}\n"
   ]
  },
  {
   "cell_type": "markdown",
   "id": "768d4050",
   "metadata": {},
   "source": [
    " - Bloqueio/filtro de requisições\n",
    " - Bloquei/filtro de domínio\n",
    " - Bloqueio/filtro de midias\n",
    " \n",
    " ..."
   ]
  },
  {
   "cell_type": "code",
   "execution_count": null,
   "id": "a76fc8ae",
   "metadata": {},
   "outputs": [],
   "source": []
  },
  {
   "cell_type": "code",
   "execution_count": null,
   "id": "ca26cf51",
   "metadata": {},
   "outputs": [],
   "source": []
  }
 ],
 "metadata": {
  "kernelspec": {
   "display_name": "Python 3 (ipykernel)",
   "language": "python",
   "name": "python3"
  },
  "language_info": {
   "codemirror_mode": {
    "name": "ipython",
    "version": 3
   },
   "file_extension": ".py",
   "mimetype": "text/x-python",
   "name": "python",
   "nbconvert_exporter": "python",
   "pygments_lexer": "ipython3",
   "version": "3.11.5"
  }
 },
 "nbformat": 4,
 "nbformat_minor": 5
}
