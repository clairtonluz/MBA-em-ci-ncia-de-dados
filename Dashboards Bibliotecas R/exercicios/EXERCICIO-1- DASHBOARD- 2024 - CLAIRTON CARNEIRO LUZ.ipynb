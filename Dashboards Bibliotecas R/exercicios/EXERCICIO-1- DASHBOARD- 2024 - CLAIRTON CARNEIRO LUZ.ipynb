{
 "cells": [
  {
   "cell_type": "markdown",
   "id": "b4bcad11",
   "metadata": {},
   "source": [
    "# Exercícios \n",
    "\n",
    "Escolha um dataset de sua preferência com as seguintes características: \n",
    "\n",
    "- Dado com um atributo rotulado (target)\n",
    "- Pelo menos 4 variáveis númericas\n",
    "- Pelo menos 1 variável categórica\n",
    "\n",
    "\n",
    "1. Crie um pequeno texto de introdução ao seu dado. Explique a origem do dado e o tipo de problema que o entedimento deste pode proporcionar. No seu texto, tente responder as seguintes questões: \n",
    "\n",
    "- Qual a origem do meu dado?\n",
    "    - Kaggle [Jobs and Salaries in Data Science](https://www.kaggle.com/datasets/hummaamqaasim/jobs-in-data)\n",
    "- Qual é o problema? \n",
    "    - Entender a evolução da carreira de ciência de dados e analisar possíveis melhorias de salários e quantidade de vagas para o futuro.\n",
    "- Qual é a variável ALVO (target)? \n",
    "    - Preço\n",
    "- Porque eu me importo?\n",
    "    - Isso pode auxiliar compradores e vendedores a estimar o valor aproximado de uma casa em negociação, para analisar se está próximo a um valor justo ou ajudar a definir um preço justos.\n",
    "- Quais os ganhos possíveis no entendimento do meu dado? \n",
    "\n",
    "\n",
    "\n",
    "2. Crie gráficos para estudar a dispersão numérica das variáveis numéricas (histogramas, boxplot, KDE, etc.)\n",
    "\n",
    "3. Crie gráficos para estudar a frequencia dos valores possíveis observados nas variáveis categóricas (ex: barplots). \n",
    "\n",
    "4. Crie gráficos relacionais entre as variaveis numéricas, mas que explicite a variável ALVO do seu dado. \n",
    "\n",
    "5. Use o pandas profiling e gere um relatório automático. \n",
    "\n",
    "\n"
   ]
  },
  {
   "cell_type": "code",
   "execution_count": 19,
   "id": "9e4befa2",
   "metadata": {},
   "outputs": [
    {
     "data": {
      "text/html": [
       "<div>\n",
       "<style scoped>\n",
       "    .dataframe tbody tr th:only-of-type {\n",
       "        vertical-align: middle;\n",
       "    }\n",
       "\n",
       "    .dataframe tbody tr th {\n",
       "        vertical-align: top;\n",
       "    }\n",
       "\n",
       "    .dataframe thead th {\n",
       "        text-align: right;\n",
       "    }\n",
       "</style>\n",
       "<table border=\"1\" class=\"dataframe\">\n",
       "  <thead>\n",
       "    <tr style=\"text-align: right;\">\n",
       "      <th></th>\n",
       "      <th>work_year</th>\n",
       "      <th>job_title</th>\n",
       "      <th>job_category</th>\n",
       "      <th>employee_residence</th>\n",
       "      <th>experience_level</th>\n",
       "      <th>employment_type</th>\n",
       "      <th>work_setting</th>\n",
       "      <th>company_location</th>\n",
       "      <th>company_size</th>\n",
       "      <th>salary_in_brl</th>\n",
       "      <th>salary_in_brl_per_month</th>\n",
       "    </tr>\n",
       "  </thead>\n",
       "  <tbody>\n",
       "    <tr>\n",
       "      <th>0</th>\n",
       "      <td>2023</td>\n",
       "      <td>Data DevOps Engineer</td>\n",
       "      <td>Data Engineering</td>\n",
       "      <td>Germany</td>\n",
       "      <td>Mid-level</td>\n",
       "      <td>Full-time</td>\n",
       "      <td>Hybrid</td>\n",
       "      <td>Germany</td>\n",
       "      <td>L</td>\n",
       "      <td>522566.0</td>\n",
       "      <td>43547.17</td>\n",
       "    </tr>\n",
       "    <tr>\n",
       "      <th>1</th>\n",
       "      <td>2023</td>\n",
       "      <td>Data Architect</td>\n",
       "      <td>Data Architecture and Modeling</td>\n",
       "      <td>United States</td>\n",
       "      <td>Senior</td>\n",
       "      <td>Full-time</td>\n",
       "      <td>In-person</td>\n",
       "      <td>United States</td>\n",
       "      <td>M</td>\n",
       "      <td>1023000.0</td>\n",
       "      <td>85250.00</td>\n",
       "    </tr>\n",
       "    <tr>\n",
       "      <th>2</th>\n",
       "      <td>2023</td>\n",
       "      <td>Data Architect</td>\n",
       "      <td>Data Architecture and Modeling</td>\n",
       "      <td>United States</td>\n",
       "      <td>Senior</td>\n",
       "      <td>Full-time</td>\n",
       "      <td>In-person</td>\n",
       "      <td>United States</td>\n",
       "      <td>M</td>\n",
       "      <td>449900.0</td>\n",
       "      <td>37491.67</td>\n",
       "    </tr>\n",
       "    <tr>\n",
       "      <th>3</th>\n",
       "      <td>2023</td>\n",
       "      <td>Data Scientist</td>\n",
       "      <td>Data Science and Research</td>\n",
       "      <td>United States</td>\n",
       "      <td>Senior</td>\n",
       "      <td>Full-time</td>\n",
       "      <td>In-person</td>\n",
       "      <td>United States</td>\n",
       "      <td>M</td>\n",
       "      <td>1166000.0</td>\n",
       "      <td>97166.67</td>\n",
       "    </tr>\n",
       "    <tr>\n",
       "      <th>4</th>\n",
       "      <td>2023</td>\n",
       "      <td>Data Scientist</td>\n",
       "      <td>Data Science and Research</td>\n",
       "      <td>United States</td>\n",
       "      <td>Senior</td>\n",
       "      <td>Full-time</td>\n",
       "      <td>In-person</td>\n",
       "      <td>United States</td>\n",
       "      <td>M</td>\n",
       "      <td>513150.0</td>\n",
       "      <td>42762.50</td>\n",
       "    </tr>\n",
       "  </tbody>\n",
       "</table>\n",
       "</div>"
      ],
      "text/plain": [
       "   work_year             job_title                    job_category  \\\n",
       "0       2023  Data DevOps Engineer                Data Engineering   \n",
       "1       2023        Data Architect  Data Architecture and Modeling   \n",
       "2       2023        Data Architect  Data Architecture and Modeling   \n",
       "3       2023        Data Scientist       Data Science and Research   \n",
       "4       2023        Data Scientist       Data Science and Research   \n",
       "\n",
       "  employee_residence experience_level employment_type work_setting  \\\n",
       "0            Germany        Mid-level       Full-time       Hybrid   \n",
       "1      United States           Senior       Full-time    In-person   \n",
       "2      United States           Senior       Full-time    In-person   \n",
       "3      United States           Senior       Full-time    In-person   \n",
       "4      United States           Senior       Full-time    In-person   \n",
       "\n",
       "  company_location company_size  salary_in_brl  salary_in_brl_per_month  \n",
       "0          Germany            L       522566.0                 43547.17  \n",
       "1    United States            M      1023000.0                 85250.00  \n",
       "2    United States            M       449900.0                 37491.67  \n",
       "3    United States            M      1166000.0                 97166.67  \n",
       "4    United States            M       513150.0                 42762.50  "
      ]
     },
     "execution_count": 19,
     "metadata": {},
     "output_type": "execute_result"
    }
   ],
   "source": [
    "import pandas as pd\n",
    "\n",
    "df=pd.read_csv('jobs_in_data.csv')\n",
    "\n",
    "# convert salary_in_usd to BRL\n",
    "df['salary_in_brl'] = df['salary_in_usd']*5.5\n",
    "# criei uma nova coluna com o salário mensal com no maximo 2 casas decimais\n",
    "df['salary_in_brl_per_month'] = (df['salary_in_brl']/12).round(2)\n",
    "# drop salary_in_usd, salary\n",
    "df = df.drop(columns=['salary_in_usd', 'salary', 'salary_currency'])\n",
    "\n",
    "df.head()"
   ]
  },
  {
   "cell_type": "markdown",
   "id": "45889a3c",
   "metadata": {},
   "source": [
    "# 2. Crie gráficos para estudar a dispersão numérica das variáveis numéricas (histogramas, boxplot, KDE, etc.)"
   ]
  },
  {
   "cell_type": "code",
   "execution_count": 17,
   "id": "577b0d1d",
   "metadata": {},
   "outputs": [
    {
     "data": {
      "image/png": "[encoded data removed]",
      "text/plain": [
       "<Figure size 1000x600 with 1 Axes>"
      ]
     },
     "metadata": {},
     "output_type": "display_data"
    }
   ],
   "source": [
    "# cria gráfico que mostre a distribuição de salários, mostre os salários no seguinte formado 999.999,99\n",
    "\n",
    "import matplotlib.pyplot as plt\n",
    "import seaborn as sns\n",
    "# df['salary_in_brl'].plot(kind='hist', bins=30, rwidth=0.8, color='b')\n",
    "# plt.title('Salário em BRL')\n",
    "# plt.xlabel('Salário')\n",
    "# plt.ylabel('Número de vagas')\n",
    "# plt.show()\n",
    "plt.figure(figsize=(10, 6))\n",
    "sns.histplot(df['salary_in_brl'], kde=True)\n",
    "plt.title('Distribuição de salários em BRL')\n",
    "plt.show()\n",
    "\n"
   ]
  },
  {
   "cell_type": "code",
   "execution_count": null,
   "id": "125396d5",
   "metadata": {},
   "outputs": [],
   "source": [
    "\n",
    "# cria gráfico que mostre a distribuição de salários por nível de experiência\n",
    "plt.figure(figsize=(10, 6))\n",
    "sns.boxplot(data=df, x='experience_level', y='salary_in_brl')\n",
    "plt.title('Distribuição de salários por nível de experiência')\n",
    "plt.show()\n",
    "\n",
    "# cria gráfico que mostre a distribuição de salários por nível de experiência e tipo de contrato\n",
    "plt.figure(figsize=(10, 6))\n",
    "sns.boxplot(data=df, x='experience_level', y='salary_in_brl', hue='contract_type')\n",
    "plt.title('Distribuição de salários por nível de experiência e tipo de contrato')\n",
    "plt.show()\n"
   ]
  },
  {
   "cell_type": "markdown",
   "id": "30f26fcd",
   "metadata": {},
   "source": [
    "# 3. Crie gráficos para estudar a frequencia dos valores possíveis observados nas variáveis categóricas (ex: barplots). "
   ]
  },
  {
   "cell_type": "markdown",
   "id": "eaf27934",
   "metadata": {},
   "source": [
    "# 4. Crie gráficos relacionais entre as variaveis numéricas, mas que explicite a variável ALVO do seu dado."
   ]
  },
  {
   "cell_type": "markdown",
   "id": "75297b03",
   "metadata": {},
   "source": [
    "# 5. Use o pandas profiling e gere um relatório automático. "
   ]
  },
  {
   "cell_type": "code",
   "execution_count": 20,
   "id": "79ce1113",
   "metadata": {},
   "outputs": [
    {
     "name": "stderr",
     "output_type": "stream",
     "text": [
      "Summarize dataset: 100%|██████████| 24/24 [00:00<00:00, 29.23it/s, Completed]                                               \n",
      "Generate report structure: 100%|██████████| 1/1 [00:01<00:00,  1.87s/it]\n",
      "Render HTML: 100%|██████████| 1/1 [00:00<00:00,  5.23it/s]\n",
      "Export report to file: 100%|██████████| 1/1 [00:00<00:00, 346.49it/s]\n"
     ]
    }
   ],
   "source": [
    "from ydata_profiling import ProfileReport\n",
    "\n",
    "profile = ProfileReport(df, title=\"Pandas Profiling Report\")\n",
    "\n",
    "profile.to_file('output.html')"
   ]
  }
 ],
 "metadata": {
  "hide_input": false,
  "kernelspec": {
   "display_name": "Python 3",
   "language": "python",
   "name": "python3"
  },
  "language_info": {
   "codemirror_mode": {
    "name": "ipython",
    "version": 3
   },
   "file_extension": ".py",
   "mimetype": "text/x-python",
   "name": "python",
   "nbconvert_exporter": "python",
   "pygments_lexer": "ipython3",
   "version": "3.11.5"
  },
  "toc": {
   "base_numbering": 1,
   "nav_menu": {},
   "number_sections": true,
   "sideBar": true,
   "skip_h1_title": false,
   "title_cell": "Table of Contents",
   "title_sidebar": "Contents",
   "toc_cell": false,
   "toc_position": {},
   "toc_section_display": true,
   "toc_window_display": false
  }
 },
 "nbformat": 4,
 "nbformat_minor": 5
}
