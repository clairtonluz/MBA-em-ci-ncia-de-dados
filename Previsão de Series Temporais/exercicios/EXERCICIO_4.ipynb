{
 "cells": [
  {
   "cell_type": "markdown",
   "id": "5d0a70e4",
   "metadata": {},
   "source": [
    "# Projeto: Séries temporais - MBA\n",
    "\n",
    "Observações:\n",
    "\n",
    "1. Para cada questão, crie novas células para efetuar seus códigos. \n",
    "\n",
    "2. Nomear variáveis de acordo com o contexto da questão. \n",
    "\n",
    "3. Caso necessário, utilize novas caixas de textos para deixar comentários. \n",
    "\n",
    "Prof. Jorge Luiz \n",
    "\n",
    "jorgearaujo@unifor.br"
   ]
  },
  {
   "cell_type": "markdown",
   "id": "d1d55f4b",
   "metadata": {},
   "source": [
    "Você recebeu um dado chamado 'Electric_Production.csv'. Atribua-o a um dataframe df. \n",
    "\n",
    "1. A partir de df, use os modelos abaixo para fazer previsões para os 30 períodos futuros.\n",
    "\n",
    "\n",
    "    a. ARIMA (2,0,0)\n",
    "\n",
    "    b. ARIMA (2,0,1)\n",
    "    \n",
    "    c. ARIMA (2,2,1)\n",
    "    \n",
    "    d. ARIMA (8,2,1) \n",
    "    \n",
    "    e. Criei um gráfico com todas as previsões acima. \n",
    "    \n",
    "    f. Entre estes, qual é o melhor? Utilize a métrica AIC.  \n",
    "    \n",
    "    g. Use o auto-arima e apresente o melhor modelo encontrado. "
   ]
  },
  {
   "cell_type": "code",
   "execution_count": null,
   "id": "744abc48",
   "metadata": {},
   "outputs": [],
   "source": []
  }
 ],
 "metadata": {
  "hide_input": false,
  "kernelspec": {
   "display_name": "Python 3",
   "language": "python",
   "name": "python3"
  },
  "language_info": {
   "codemirror_mode": {
    "name": "ipython",
    "version": 3
   },
   "file_extension": ".py",
   "mimetype": "text/x-python",
   "name": "python",
   "nbconvert_exporter": "python",
   "pygments_lexer": "ipython3",
   "version": "3.8.10"
  },
  "toc": {
   "base_numbering": 1,
   "nav_menu": {},
   "number_sections": true,
   "sideBar": true,
   "skip_h1_title": false,
   "title_cell": "Table of Contents",
   "title_sidebar": "Contents",
   "toc_cell": false,
   "toc_position": {},
   "toc_section_display": true,
   "toc_window_display": false
  }
 },
 "nbformat": 4,
 "nbformat_minor": 5
}
