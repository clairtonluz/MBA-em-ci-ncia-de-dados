{
 "cells": [
  {
   "cell_type": "markdown",
   "metadata": {},
   "source": [
    "# Trabalho de Engenharia de Dados II\n",
    "\n",
    "## Membros\n",
    "* Clairton Carneiro Luz\n",
    "* Lairton Mendes\n",
    "* Paulo Roberto Mesquita da Silva"
   ]
  },
  {
   "cell_type": "markdown",
   "metadata": {},
   "source": [
    "## Instalando dependências"
   ]
  },
  {
   "cell_type": "code",
   "execution_count": null,
   "metadata": {},
   "outputs": [],
   "source": [
    "!pip install -r requirements.txt"
   ]
  },
  {
   "cell_type": "markdown",
   "metadata": {},
   "source": [
    "## Baixando dataset"
   ]
  },
  {
   "cell_type": "code",
   "execution_count": 8,
   "metadata": {},
   "outputs": [
    {
     "name": "stderr",
     "output_type": "stream",
     "text": [
      "Downloading...\n",
      "From: https://drive.google.com/uc?id=1stubK6570vA8beNB2lRwWyxYO7lL4GDh\n",
      "To: /Users/clairtonluz/projects/personal/MBA-em-ciencia-de-dados/Engenharia de Dados II/trabalho/datasets/onlinefoods.csv\n",
      "100%|██████████| 35.8k/35.8k [00:00<00:00, 720kB/s]\n"
     ]
    },
    {
     "data": {
      "text/plain": [
       "'datasets/onlinefoods.csv'"
      ]
     },
     "execution_count": 8,
     "metadata": {},
     "output_type": "execute_result"
    }
   ],
   "source": [
    "\n",
    "!mkdir -p datasets\n",
    "\n",
    "import gdown\n",
    "\n",
    "url = 'https://drive.google.com/uc?id=1stubK6570vA8beNB2lRwWyxYO7lL4GDh'\n",
    "output = 'datasets/onlinefoods.csv'\n",
    "gdown.download(url, output, quiet=False)"
   ]
  },
  {
   "cell_type": "markdown",
   "metadata": {},
   "source": [
    "## Carregando dataset"
   ]
  },
  {
   "cell_type": "code",
   "execution_count": 11,
   "metadata": {},
   "outputs": [
    {
     "name": "stdout",
     "output_type": "stream",
     "text": [
      "+---+------+--------------+----------+--------------+--------------------------+-----------+--------+---------+--------+------+---------+---------+\n",
      "|Age|Gender|Marital Status|Occupation|Monthly Income|Educational Qualifications|Family size|latitude|longitude|Pin code|Output| Feedback|Recommend|\n",
      "+---+------+--------------+----------+--------------+--------------------------+-----------+--------+---------+--------+------+---------+---------+\n",
      "| 20|Female|        Single|   Student|     No Income|             Post Graduate|          4| 12.9766|  77.5993|  560001|   Yes| Positive|      Yes|\n",
      "| 24|Female|        Single|   Student|Below Rs.10000|                  Graduate|          3|  12.977|  77.5773|  560009|   Yes| Positive|      Yes|\n",
      "| 22|  Male|        Single|   Student|Below Rs.10000|             Post Graduate|          3| 12.9551|  77.6593|  560017|   Yes|Negative |      Yes|\n",
      "| 22|Female|        Single|   Student|     No Income|                  Graduate|          6| 12.9473|  77.5616|  560019|   Yes| Positive|      Yes|\n",
      "| 22|  Male|        Single|   Student|Below Rs.10000|             Post Graduate|          4|  12.985|  77.5533|  560010|   Yes| Positive|      Yes|\n",
      "+---+------+--------------+----------+--------------+--------------------------+-----------+--------+---------+--------+------+---------+---------+\n",
      "only showing top 5 rows\n",
      "\n"
     ]
    }
   ],
   "source": [
    "# Carregando = 'datasets/onlinefoods.csv' usando spark que está rodando localmente using componse.yml\n",
    "\n",
    "from pyspark.sql import SparkSession\n",
    "from pyspark.sql import SQLContext\n",
    "\n",
    "spark = SparkSession.builder \\\n",
    "    .appName(\"OnlineFoods\") \\\n",
    "    .getOrCreate()\n",
    "\n",
    "sc = spark.sparkContext\n",
    "\n",
    "df=spark.read \\\n",
    "        .option(\"header\", \"true\") \\\n",
    "        .option(\"inferSchema\", \"true\") \\\n",
    "        .csv('./datasets/onlinefoods.csv')\n",
    "\n",
    "df.show(5)\n"
   ]
  },
  {
   "cell_type": "code",
   "execution_count": 12,
   "metadata": {},
   "outputs": [
    {
     "name": "stdout",
     "output_type": "stream",
     "text": [
      "+---------------+\n",
      "| Monthly Income|\n",
      "+---------------+\n",
      "|      No Income|\n",
      "| 10001 to 25000|\n",
      "| 25001 to 50000|\n",
      "|More than 50000|\n",
      "| Below Rs.10000|\n",
      "+---------------+\n",
      "\n"
     ]
    }
   ],
   "source": [
    "# mostre os valores distintos da coluna 'Monthly Income'\n",
    "df.select('Monthly Income').distinct().show()"
   ]
  },
  {
   "cell_type": "markdown",
   "metadata": {},
   "source": [
    "## Transformando dado"
   ]
  },
  {
   "cell_type": "code",
   "execution_count": 13,
   "metadata": {},
   "outputs": [
    {
     "name": "stdout",
     "output_type": "stream",
     "text": [
      "+---+------+--------------+----------+--------------+--------------------------+-----------+--------+---------+--------+------+---------+---------+-------------+\n",
      "|Age|Gender|Marital Status|Occupation|Monthly Income|Educational Qualifications|Family size|latitude|longitude|Pin code|Output| Feedback|Recommend|MonthlyIncome|\n",
      "+---+------+--------------+----------+--------------+--------------------------+-----------+--------+---------+--------+------+---------+---------+-------------+\n",
      "| 20|Female|        Single|   Student|     No Income|             Post Graduate|          4| 12.9766|  77.5993|  560001|   Yes| Positive|      Yes|            0|\n",
      "| 24|Female|        Single|   Student|Below Rs.10000|                  Graduate|          3|  12.977|  77.5773|  560009|   Yes| Positive|      Yes|         5000|\n",
      "| 22|  Male|        Single|   Student|Below Rs.10000|             Post Graduate|          3| 12.9551|  77.6593|  560017|   Yes|Negative |      Yes|         5000|\n",
      "| 22|Female|        Single|   Student|     No Income|                  Graduate|          6| 12.9473|  77.5616|  560019|   Yes| Positive|      Yes|            0|\n",
      "| 22|  Male|        Single|   Student|Below Rs.10000|             Post Graduate|          4|  12.985|  77.5533|  560010|   Yes| Positive|      Yes|         5000|\n",
      "+---+------+--------------+----------+--------------+--------------------------+-----------+--------+---------+--------+------+---------+---------+-------------+\n",
      "only showing top 5 rows\n",
      "\n"
     ]
    }
   ],
   "source": [
    "# crie uma nova columa chamada 'MonthlyIncomme' que vai seguir o seguinte padrão:\n",
    "# - se 'No Income', 'MonthlyIncome' = '0'\n",
    "# - se 'Below Rs.10000', 'MonthlyIncome' = '5000'\n",
    "# - se '10000 to 20000', 'MonthlyIncome' = '15000'\n",
    "# - se '25001 to 50000', 'MonthlyIncome' = '37500'\n",
    "# - se 'More than 50000', 'MonthlyIncome' = '50000'\n",
    "from pyspark.sql.functions import when\n",
    "\n",
    "df = df.withColumn('MonthlyIncome', when(df['Monthly Income'] == 'No Income', 0)\n",
    "                    .when(df['Monthly Income'] == 'Below Rs.10000', 5000)\n",
    "                    .when(df['Monthly Income'] == '10000 to 20000', 15000)\n",
    "                    .when(df['Monthly Income'] == '25001 to 50000', 37500)\n",
    "                    .when(df['Monthly Income'] == 'More than 50000', 50000)\n",
    "                    .otherwise(0))\n",
    "\n",
    "df.show(5)\n"
   ]
  },
  {
   "cell_type": "code",
   "execution_count": 18,
   "metadata": {},
   "outputs": [
    {
     "name": "stdout",
     "output_type": "stream",
     "text": [
      "+-----------------+------------------+\n",
      "|   Marital Status|avg(MonthlyIncome)|\n",
      "+-----------------+------------------+\n",
      "|          Married| 32592.59259259259|\n",
      "|Prefer not to say|           26875.0|\n",
      "|           Single| 7350.746268656716|\n",
      "+-----------------+------------------+\n",
      "\n"
     ]
    }
   ],
   "source": [
    "# Exibe quem gasta mais em média, solteiros ou casados, ordenando do maior para o menor\n",
    "df.groupBy('Marital Status') \\\n",
    "    .mean('MonthlyIncome') \\\n",
    "    .sort('avg(MonthlyIncome)', ascending=False) \\\n",
    "    .show()\n"
   ]
  },
  {
   "cell_type": "code",
   "execution_count": 19,
   "metadata": {},
   "outputs": [
    {
     "name": "stdout",
     "output_type": "stream",
     "text": [
      "+--------------+------------------+\n",
      "|    Occupation|avg(MonthlyIncome)|\n",
      "+--------------+------------------+\n",
      "|Self Employeed| 32870.37037037037|\n",
      "|      Employee|31694.915254237287|\n",
      "|       Student|1437.1980676328503|\n",
      "|    House wife|               0.0|\n",
      "+--------------+------------------+\n",
      "\n"
     ]
    }
   ],
   "source": [
    "# Quem gasta mais em média, por ocupação, ordenando do maior para o menor\n",
    "df.groupBy('Occupation') \\\n",
    "    .mean('MonthlyIncome') \\\n",
    "    .sort('avg(MonthlyIncome)', ascending=False) \\\n",
    "    .show()"
   ]
  },
  {
   "cell_type": "code",
   "execution_count": 20,
   "metadata": {},
   "outputs": [
    {
     "name": "stdout",
     "output_type": "stream",
     "text": [
      "+-----------+------------------+\n",
      "|Family size|avg(MonthlyIncome)|\n",
      "+-----------+------------------+\n",
      "|          6|           27500.0|\n",
      "|          3| 15641.02564102564|\n",
      "|          1|           14375.0|\n",
      "|          4|13293.650793650793|\n",
      "|          2|13094.059405940594|\n",
      "|          5|12592.592592592593|\n",
      "+-----------+------------------+\n",
      "\n"
     ]
    }
   ],
   "source": [
    "# quem gasta mais por tamanho de família, ordenando do maior para o menor\n",
    "df.groupBy('Family size') \\\n",
    "    .mean('MonthlyIncome') \\\n",
    "    .sort('avg(MonthlyIncome)', ascending=False) \\\n",
    "    .show()"
   ]
  }
 ],
 "metadata": {
  "kernelspec": {
   "display_name": ".venv",
   "language": "python",
   "name": "python3"
  },
  "language_info": {
   "codemirror_mode": {
    "name": "ipython",
    "version": 3
   },
   "file_extension": ".py",
   "mimetype": "text/x-python",
   "name": "python",
   "nbconvert_exporter": "python",
   "pygments_lexer": "ipython3",
   "version": "3.11.5"
  }
 },
 "nbformat": 4,
 "nbformat_minor": 2
}
