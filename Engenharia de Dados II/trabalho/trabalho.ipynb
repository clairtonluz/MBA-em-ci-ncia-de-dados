{
 "cells": [
  {
   "cell_type": "markdown",
   "metadata": {},
   "source": [
    "# Trabalho de Engenharia de Dados II\n",
    "\n",
    "## Membros\n",
    "* Clairton Carneiro Luz - T6\n",
    "* Lairton da Silva Mendes - T6\n",
    "* Paulo Roberto Mesquita da Silva - T5"
   ]
  },
  {
   "cell_type": "markdown",
   "metadata": {},
   "source": [
    "## 1 Configurando ambiente"
   ]
  },
  {
   "cell_type": "markdown",
   "metadata": {},
   "source": [
    "### 1.1 Instalando dependências"
   ]
  },
  {
   "cell_type": "code",
   "execution_count": 2,
   "metadata": {},
   "outputs": [
    {
     "name": "stdout",
     "output_type": "stream",
     "text": [
      "Requirement already satisfied: pyspark in /Users/clairtonluz/projects/personal/MBA-em-ciencia-de-dados/Engenharia de Dados II/.venv/lib/python3.11/site-packages (from -r requirements.txt (line 1)) (3.5.1)\n",
      "Requirement already satisfied: gdown in /Users/clairtonluz/projects/personal/MBA-em-ciencia-de-dados/Engenharia de Dados II/.venv/lib/python3.11/site-packages (from -r requirements.txt (line 2)) (5.1.0)\n",
      "Requirement already satisfied: pandas in /Users/clairtonluz/projects/personal/MBA-em-ciencia-de-dados/Engenharia de Dados II/.venv/lib/python3.11/site-packages (from -r requirements.txt (line 3)) (2.2.1)\n",
      "Requirement already satisfied: pyarrow in /Users/clairtonluz/projects/personal/MBA-em-ciencia-de-dados/Engenharia de Dados II/.venv/lib/python3.11/site-packages (from -r requirements.txt (line 4)) (15.0.2)\n",
      "Requirement already satisfied: grpcio in /Users/clairtonluz/projects/personal/MBA-em-ciencia-de-dados/Engenharia de Dados II/.venv/lib/python3.11/site-packages (from -r requirements.txt (line 5)) (1.62.1)\n",
      "Requirement already satisfied: google in /Users/clairtonluz/projects/personal/MBA-em-ciencia-de-dados/Engenharia de Dados II/.venv/lib/python3.11/site-packages (from -r requirements.txt (line 6)) (3.0.0)\n",
      "Requirement already satisfied: py4j==0.10.9.7 in /Users/clairtonluz/projects/personal/MBA-em-ciencia-de-dados/Engenharia de Dados II/.venv/lib/python3.11/site-packages (from pyspark->-r requirements.txt (line 1)) (0.10.9.7)\n",
      "Requirement already satisfied: beautifulsoup4 in /Users/clairtonluz/projects/personal/MBA-em-ciencia-de-dados/Engenharia de Dados II/.venv/lib/python3.11/site-packages (from gdown->-r requirements.txt (line 2)) (4.12.3)\n",
      "Requirement already satisfied: filelock in /Users/clairtonluz/projects/personal/MBA-em-ciencia-de-dados/Engenharia de Dados II/.venv/lib/python3.11/site-packages (from gdown->-r requirements.txt (line 2)) (3.13.3)\n",
      "Requirement already satisfied: requests[socks] in /Users/clairtonluz/projects/personal/MBA-em-ciencia-de-dados/Engenharia de Dados II/.venv/lib/python3.11/site-packages (from gdown->-r requirements.txt (line 2)) (2.31.0)\n",
      "Requirement already satisfied: tqdm in /Users/clairtonluz/projects/personal/MBA-em-ciencia-de-dados/Engenharia de Dados II/.venv/lib/python3.11/site-packages (from gdown->-r requirements.txt (line 2)) (4.66.2)\n",
      "Requirement already satisfied: numpy<2,>=1.23.2 in /Users/clairtonluz/projects/personal/MBA-em-ciencia-de-dados/Engenharia de Dados II/.venv/lib/python3.11/site-packages (from pandas->-r requirements.txt (line 3)) (1.26.4)\n",
      "Requirement already satisfied: python-dateutil>=2.8.2 in /Users/clairtonluz/projects/personal/MBA-em-ciencia-de-dados/Engenharia de Dados II/.venv/lib/python3.11/site-packages (from pandas->-r requirements.txt (line 3)) (2.9.0.post0)\n",
      "Requirement already satisfied: pytz>=2020.1 in /Users/clairtonluz/projects/personal/MBA-em-ciencia-de-dados/Engenharia de Dados II/.venv/lib/python3.11/site-packages (from pandas->-r requirements.txt (line 3)) (2024.1)\n",
      "Requirement already satisfied: tzdata>=2022.7 in /Users/clairtonluz/projects/personal/MBA-em-ciencia-de-dados/Engenharia de Dados II/.venv/lib/python3.11/site-packages (from pandas->-r requirements.txt (line 3)) (2024.1)\n",
      "Requirement already satisfied: six>=1.5 in /Users/clairtonluz/projects/personal/MBA-em-ciencia-de-dados/Engenharia de Dados II/.venv/lib/python3.11/site-packages (from python-dateutil>=2.8.2->pandas->-r requirements.txt (line 3)) (1.16.0)\n",
      "Requirement already satisfied: soupsieve>1.2 in /Users/clairtonluz/projects/personal/MBA-em-ciencia-de-dados/Engenharia de Dados II/.venv/lib/python3.11/site-packages (from beautifulsoup4->gdown->-r requirements.txt (line 2)) (2.5)\n",
      "Requirement already satisfied: charset-normalizer<4,>=2 in /Users/clairtonluz/projects/personal/MBA-em-ciencia-de-dados/Engenharia de Dados II/.venv/lib/python3.11/site-packages (from requests[socks]->gdown->-r requirements.txt (line 2)) (3.3.2)\n",
      "Requirement already satisfied: idna<4,>=2.5 in /Users/clairtonluz/projects/personal/MBA-em-ciencia-de-dados/Engenharia de Dados II/.venv/lib/python3.11/site-packages (from requests[socks]->gdown->-r requirements.txt (line 2)) (3.6)\n",
      "Requirement already satisfied: urllib3<3,>=1.21.1 in /Users/clairtonluz/projects/personal/MBA-em-ciencia-de-dados/Engenharia de Dados II/.venv/lib/python3.11/site-packages (from requests[socks]->gdown->-r requirements.txt (line 2)) (2.2.1)\n",
      "Requirement already satisfied: certifi>=2017.4.17 in /Users/clairtonluz/projects/personal/MBA-em-ciencia-de-dados/Engenharia de Dados II/.venv/lib/python3.11/site-packages (from requests[socks]->gdown->-r requirements.txt (line 2)) (2024.2.2)\n",
      "Requirement already satisfied: PySocks!=1.5.7,>=1.5.6 in /Users/clairtonluz/projects/personal/MBA-em-ciencia-de-dados/Engenharia de Dados II/.venv/lib/python3.11/site-packages (from requests[socks]->gdown->-r requirements.txt (line 2)) (1.7.1)\n",
      "\n",
      "\u001b[1m[\u001b[0m\u001b[34;49mnotice\u001b[0m\u001b[1;39;49m]\u001b[0m\u001b[39;49m A new release of pip is available: \u001b[0m\u001b[31;49m23.2.1\u001b[0m\u001b[39;49m -> \u001b[0m\u001b[32;49m24.0\u001b[0m\n",
      "\u001b[1m[\u001b[0m\u001b[34;49mnotice\u001b[0m\u001b[1;39;49m]\u001b[0m\u001b[39;49m To update, run: \u001b[0m\u001b[32;49mpip install --upgrade pip\u001b[0m\n",
      "Note: you may need to restart the kernel to use updated packages.\n"
     ]
    }
   ],
   "source": [
    "%pip install -r requirements.txt"
   ]
  },
  {
   "cell_type": "markdown",
   "metadata": {},
   "source": [
    "## 2 Coleta dos dados"
   ]
  },
  {
   "cell_type": "markdown",
   "metadata": {},
   "source": [
    "### 2.1 Baixando dataset"
   ]
  },
  {
   "cell_type": "code",
   "execution_count": 3,
   "metadata": {},
   "outputs": [],
   "source": [
    "\n",
    "!mkdir -p datasets\n",
    "# if not exist, download the dataset\n",
    "import os\n",
    "import gdown\n",
    "\n",
    "if not os.path.exists('datasets/archive.zip'):\n",
    "    url = 'https://drive.google.com/uc?id=17lmw3IkAM4T71chEJkxYNQSB-Ky9s14-'\n",
    "    output = 'datasets/archive.zip'\n",
    "    gdown.download(url, output, quiet=False)"
   ]
  },
  {
   "cell_type": "markdown",
   "metadata": {},
   "source": [
    "### 2.2 Extraindo dataset"
   ]
  },
  {
   "cell_type": "code",
   "execution_count": 4,
   "metadata": {},
   "outputs": [],
   "source": [
    "#  if not exist, unzip the dataset\n",
    "import zipfile\n",
    "import os\n",
    "\n",
    "if not os.path.exists('datasets/past-data.csv'):\n",
    "    with zipfile.ZipFile('datasets/archive.zip', 'r') as zip_ref:\n",
    "        zip_ref.extractall('datasets/')"
   ]
  },
  {
   "cell_type": "markdown",
   "metadata": {},
   "source": [
    "### 2.3 Carregando dataset"
   ]
  },
  {
   "cell_type": "code",
   "execution_count": 5,
   "metadata": {},
   "outputs": [
    {
     "name": "stdout",
     "output_type": "stream",
     "text": [
      "Key to data:\n",
      "\n",
      "Season = League Season\n",
      "Div = League Division\n",
      "Date = Match Date (dd/mm/yy)\n",
      "Time = Time of match kick off\n",
      "HomeTeam = Home Team\n",
      "AwayTeam = Away Team\n",
      "FTHG = Full Time Home Team Goals\n",
      "FTAG = Full Time Away Team Goals\n",
      "FTR = Full Time Result (H=Home Win, D=Draw, A=Away Win)\n",
      "HTHG = Half Time Home Team Goals\n",
      "HTAG = Half Time Away Team Goals\n",
      "HTR = Half Time Result (H=Home Win, D=Draw, A=Away Win)\n",
      "\n",
      "Match Statistics (where available)\n",
      "Referee = Match Referee\n",
      "HS = Home Team Shots\n",
      "AS = Away Team Shots\n",
      "HST = Home Team Shots on Target\n",
      "AST = Away Team Shots on Target\n",
      "HC = Home Team Corners\n",
      "AC = Away Team Corners\n",
      "HF = Home Team Fouls Committed\n",
      "AF = Away Team Fouls Committed\n",
      "HY = Home Team Yellow Cards\n",
      "AY = Away Team Yellow Cards\n",
      "HR = Home Team Red Cards\n",
      "AR = Away Team Red Cards\n"
     ]
    }
   ],
   "source": [
    "# Imprime leganda do dataset\n",
    "with open('datasets/headers-details.txt', 'r') as file:\n",
    "    print(file.read())\n"
   ]
  },
  {
   "cell_type": "code",
   "execution_count": 6,
   "metadata": {},
   "outputs": [
    {
     "name": "stderr",
     "output_type": "stream",
     "text": [
      "24/04/05 20:06:36 WARN Utils: Your hostname, MacBook-Air-de-Clairton.local resolves to a loopback address: 127.0.0.1; using 10.50.30.151 instead (on interface en0)\n",
      "24/04/05 20:06:36 WARN Utils: Set SPARK_LOCAL_IP if you need to bind to another address\n",
      "Setting default log level to \"WARN\".\n",
      "To adjust logging level use sc.setLogLevel(newLevel). For SparkR, use setLogLevel(newLevel).\n",
      "24/04/05 20:06:37 WARN NativeCodeLoader: Unable to load native-hadoop library for your platform... using builtin-java classes where applicable\n",
      "                                                                                \r"
     ]
    },
    {
     "name": "stdout",
     "output_type": "stream",
     "text": [
      "+------+--------------+----------+-------------------+--------------+-------------+----+----+---+----+----+---+--------+----+----+----+---+----+----+----+---+---+---+---+---+\n",
      "|Season|           Div|      Date|               Time|      HomeTeam|     AwayTeam|FTHG|FTAG|FTR|HTHG|HTAG|HTR| Referee|  HS|  AS| HST|AST|  HF|  AF|  HC| AC| HY| AY| HR| AR|\n",
      "+------+--------------+----------+-------------------+--------------+-------------+----+----+---+----+----+---+--------+----+----+----+---+----+----+----+---+---+---+---+---+\n",
      "| 22-23|Premier League|05/08/2022|2024-04-05 20:00:00|Crystal Palace|      Arsenal| 0.0| 2.0|  A| 0.0| 1.0|  A|A Taylor|10.0|10.0| 2.0|2.0|16.0|11.0| 3.0|5.0|1.0|2.0|0.0|0.0|\n",
      "| 22-23|Premier League|06/08/2022|2024-04-05 12:30:00|        Fulham|    Liverpool| 2.0| 2.0|  D| 1.0| 0.0|  H|A Madley| 9.0|11.0| 3.0|4.0| 7.0| 9.0| 4.0|4.0|2.0|0.0|0.0|0.0|\n",
      "| 22-23|Premier League|06/08/2022|2024-04-05 15:00:00|   Bournemouth|  Aston Villa| 2.0| 0.0|  H| 1.0| 0.0|  H|P Bankes| 7.0|15.0| 3.0|2.0|18.0|16.0| 5.0|5.0|3.0|3.0|0.0|0.0|\n",
      "| 22-23|Premier League|06/08/2022|2024-04-05 15:00:00|         Leeds|       Wolves| 2.0| 1.0|  H| 1.0| 1.0|  D| R Jones|12.0|15.0| 4.0|6.0|13.0| 9.0| 6.0|4.0|2.0|0.0|0.0|0.0|\n",
      "| 22-23|Premier League|06/08/2022|2024-04-05 15:00:00|     Newcastle|Nott'm Forest| 2.0| 0.0|  H| 0.0| 0.0|  D|S Hooper|23.0| 5.0|10.0|0.0| 9.0|14.0|11.0|1.0|0.0|3.0|0.0|0.0|\n",
      "+------+--------------+----------+-------------------+--------------+-------------+----+----+---+----+----+---+--------+----+----+----+---+----+----+----+---+---+---+---+---+\n",
      "only showing top 5 rows\n",
      "\n"
     ]
    }
   ],
   "source": [
    "# Carregando = 'datasets/onlinefoods.csv' usando spark que está rodando localmente using componse.yml\n",
    "\n",
    "from pyspark.sql import SparkSession\n",
    "from pyspark.sql import SQLContext\n",
    "\n",
    "spark = SparkSession.builder \\\n",
    "    .appName(\"Football Data | Top 5 European Leagues\") \\\n",
    "    .master(\"local[2]\") \\\n",
    "    .getOrCreate()\n",
    "\n",
    "sc = spark.sparkContext\n",
    "\n",
    "df=spark.read \\\n",
    "        .option(\"header\", \"true\") \\\n",
    "        .option(\"inferSchema\", \"true\") \\\n",
    "        .csv('./datasets/past-data.csv')\n",
    "\n",
    "df.show(5)\n"
   ]
  },
  {
   "cell_type": "markdown",
   "metadata": {},
   "source": [
    "## 3 Limpeza e pré-processamento dos dados"
   ]
  },
  {
   "cell_type": "markdown",
   "metadata": {},
   "source": [
    "### 3.1 Traduzindo colunas"
   ]
  },
  {
   "cell_type": "code",
   "execution_count": 7,
   "metadata": {},
   "outputs": [
    {
     "name": "stdout",
     "output_type": "stream",
     "text": [
      "+---------+--------------+----------+-------------------+--------------+-------------+--------------+--------------+---------+------------------------+------------------------+-------------------+--------+-----------+-----------+------------------+------------------+-----------+-----------+---------------+---------------+---------------------+---------------------+----------------------+----------------------+\n",
      "|temporada|       divisao|      data|     inicio_partida|     time_casa|    time_fora|gols_time_casa|gols_time_fora|resultado|time_casa_gols_intervalo|time_fora_gols_intervalo|resultado_intervalo| arbitro|chutes_casa|chutes_fora|chutes_no_gol_casa|chutes_no_gol_fora|faltas_casa|faltas_fora|escanteios_casa|escanteios_fora|cartoes_amarelos_casa|cartoes_amarelos_fora|cartoes_vermelhos_casa|cartoes_vermelhos_fora|\n",
      "+---------+--------------+----------+-------------------+--------------+-------------+--------------+--------------+---------+------------------------+------------------------+-------------------+--------+-----------+-----------+------------------+------------------+-----------+-----------+---------------+---------------+---------------------+---------------------+----------------------+----------------------+\n",
      "|    22-23|Premier League|05/08/2022|2024-04-05 20:00:00|Crystal Palace|      Arsenal|           0.0|           2.0|        A|                     0.0|                     1.0|                  A|A Taylor|       10.0|       10.0|               2.0|               2.0|       16.0|       11.0|            3.0|            5.0|                  1.0|                  2.0|                   0.0|                   0.0|\n",
      "|    22-23|Premier League|06/08/2022|2024-04-05 12:30:00|        Fulham|    Liverpool|           2.0|           2.0|        D|                     1.0|                     0.0|                  H|A Madley|        9.0|       11.0|               3.0|               4.0|        7.0|        9.0|            4.0|            4.0|                  2.0|                  0.0|                   0.0|                   0.0|\n",
      "|    22-23|Premier League|06/08/2022|2024-04-05 15:00:00|   Bournemouth|  Aston Villa|           2.0|           0.0|        H|                     1.0|                     0.0|                  H|P Bankes|        7.0|       15.0|               3.0|               2.0|       18.0|       16.0|            5.0|            5.0|                  3.0|                  3.0|                   0.0|                   0.0|\n",
      "|    22-23|Premier League|06/08/2022|2024-04-05 15:00:00|         Leeds|       Wolves|           2.0|           1.0|        H|                     1.0|                     1.0|                  D| R Jones|       12.0|       15.0|               4.0|               6.0|       13.0|        9.0|            6.0|            4.0|                  2.0|                  0.0|                   0.0|                   0.0|\n",
      "|    22-23|Premier League|06/08/2022|2024-04-05 15:00:00|     Newcastle|Nott'm Forest|           2.0|           0.0|        H|                     0.0|                     0.0|                  D|S Hooper|       23.0|        5.0|              10.0|               0.0|        9.0|       14.0|           11.0|            1.0|                  0.0|                  3.0|                   0.0|                   0.0|\n",
      "+---------+--------------+----------+-------------------+--------------+-------------+--------------+--------------+---------+------------------------+------------------------+-------------------+--------+-----------+-----------+------------------+------------------+-----------+-----------+---------------+---------------+---------------------+---------------------+----------------------+----------------------+\n",
      "only showing top 5 rows\n",
      "\n"
     ]
    }
   ],
   "source": [
    "# traduzindo colunas para pt-br\n",
    "df = df.withColumnRenamed('Season', 'temporada')\n",
    "df = df.withColumnRenamed('Div', 'divisao')\n",
    "df = df.withColumnRenamed('Date', 'data')\n",
    "df = df.withColumnRenamed('Time', 'inicio_partida')\n",
    "df = df.withColumnRenamed('HomeTeam', 'time_casa')\n",
    "df = df.withColumnRenamed('AwayTeam', 'time_fora')\n",
    "df = df.withColumnRenamed('FTHG', 'gols_time_casa')\n",
    "df = df.withColumnRenamed('FTAG', 'gols_time_fora')\n",
    "df = df.withColumnRenamed('FTR', 'resultado')\n",
    "df = df.withColumnRenamed('HTHG', 'time_casa_gols_intervalo')\n",
    "df = df.withColumnRenamed('HTAG', 'time_fora_gols_intervalo')\n",
    "df = df.withColumnRenamed('HTR', 'resultado_intervalo')\n",
    "df = df.withColumnRenamed('Referee', 'arbitro')\n",
    "df = df.withColumnRenamed('HS', 'chutes_casa')\n",
    "df = df.withColumnRenamed('AS', 'chutes_fora')\n",
    "df = df.withColumnRenamed('HST', 'chutes_no_gol_casa')\n",
    "df = df.withColumnRenamed('AST', 'chutes_no_gol_fora')\n",
    "df = df.withColumnRenamed('HC', 'escanteios_casa')\n",
    "df = df.withColumnRenamed('AC', 'escanteios_fora')\n",
    "df = df.withColumnRenamed('HF', 'faltas_casa')\n",
    "df = df.withColumnRenamed('AF', 'faltas_fora')\n",
    "df = df.withColumnRenamed('HY', 'cartoes_amarelos_casa')\n",
    "df = df.withColumnRenamed('AY', 'cartoes_amarelos_fora')\n",
    "df = df.withColumnRenamed('HR', 'cartoes_vermelhos_casa')\n",
    "df = df.withColumnRenamed('AR', 'cartoes_vermelhos_fora')\n",
    "\n",
    "df.show(5)\n"
   ]
  },
  {
   "cell_type": "markdown",
   "metadata": {},
   "source": [
    "### 3.2 Traduzindo resultados das partidadas"
   ]
  },
  {
   "cell_type": "code",
   "execution_count": 8,
   "metadata": {},
   "outputs": [
    {
     "name": "stdout",
     "output_type": "stream",
     "text": [
      "+---------+--------------+----------+-------------------+--------------+-------------+--------------+--------------+---------+------------------------+------------------------+-------------------+--------+-----------+-----------+------------------+------------------+-----------+-----------+---------------+---------------+---------------------+---------------------+----------------------+----------------------+\n",
      "|temporada|       divisao|      data|     inicio_partida|     time_casa|    time_fora|gols_time_casa|gols_time_fora|resultado|time_casa_gols_intervalo|time_fora_gols_intervalo|resultado_intervalo| arbitro|chutes_casa|chutes_fora|chutes_no_gol_casa|chutes_no_gol_fora|faltas_casa|faltas_fora|escanteios_casa|escanteios_fora|cartoes_amarelos_casa|cartoes_amarelos_fora|cartoes_vermelhos_casa|cartoes_vermelhos_fora|\n",
      "+---------+--------------+----------+-------------------+--------------+-------------+--------------+--------------+---------+------------------------+------------------------+-------------------+--------+-----------+-----------+------------------+------------------+-----------+-----------+---------------+---------------+---------------------+---------------------+----------------------+----------------------+\n",
      "|    22-23|Premier League|05/08/2022|2024-04-05 20:00:00|Crystal Palace|      Arsenal|           0.0|           2.0|     Fora|                     0.0|                     1.0|               Fora|A Taylor|       10.0|       10.0|               2.0|               2.0|       16.0|       11.0|            3.0|            5.0|                  1.0|                  2.0|                   0.0|                   0.0|\n",
      "|    22-23|Premier League|06/08/2022|2024-04-05 12:30:00|        Fulham|    Liverpool|           2.0|           2.0|   Empate|                     1.0|                     0.0|               Casa|A Madley|        9.0|       11.0|               3.0|               4.0|        7.0|        9.0|            4.0|            4.0|                  2.0|                  0.0|                   0.0|                   0.0|\n",
      "|    22-23|Premier League|06/08/2022|2024-04-05 15:00:00|   Bournemouth|  Aston Villa|           2.0|           0.0|     Casa|                     1.0|                     0.0|               Casa|P Bankes|        7.0|       15.0|               3.0|               2.0|       18.0|       16.0|            5.0|            5.0|                  3.0|                  3.0|                   0.0|                   0.0|\n",
      "|    22-23|Premier League|06/08/2022|2024-04-05 15:00:00|         Leeds|       Wolves|           2.0|           1.0|     Casa|                     1.0|                     1.0|             Empate| R Jones|       12.0|       15.0|               4.0|               6.0|       13.0|        9.0|            6.0|            4.0|                  2.0|                  0.0|                   0.0|                   0.0|\n",
      "|    22-23|Premier League|06/08/2022|2024-04-05 15:00:00|     Newcastle|Nott'm Forest|           2.0|           0.0|     Casa|                     0.0|                     0.0|             Empate|S Hooper|       23.0|        5.0|              10.0|               0.0|        9.0|       14.0|           11.0|            1.0|                  0.0|                  3.0|                   0.0|                   0.0|\n",
      "+---------+--------------+----------+-------------------+--------------+-------------+--------------+--------------+---------+------------------------+------------------------+-------------------+--------+-----------+-----------+------------------+------------------+-----------+-----------+---------------+---------------+---------------------+---------------------+----------------------+----------------------+\n",
      "only showing top 5 rows\n",
      "\n"
     ]
    }
   ],
   "source": [
    "# traduzindo resultados\n",
    "\n",
    "from pyspark.sql.functions import when\n",
    "\n",
    "df = df.withColumn('resultado', when(df['resultado'] == 'A', 'Fora') \\\n",
    "    .when(df['resultado'] == 'D', 'Empate') \\\n",
    "    .when(df['resultado'] == 'H', 'Casa') \\\n",
    "    .otherwise(df['resultado']))\n",
    "\n",
    "df = df.withColumn('resultado_intervalo', when(df['resultado_intervalo'] == 'A', 'Fora') \\\n",
    "    .when(df['resultado_intervalo'] == 'D', 'Empate') \\\n",
    "    .when(df['resultado_intervalo'] == 'H', 'Casa') \\\n",
    "    .otherwise(df['resultado_intervalo']))\n",
    "\n",
    "df.show(5)\n"
   ]
  },
  {
   "cell_type": "markdown",
   "metadata": {},
   "source": [
    "## 4 Análise Descritiva e Exploratória"
   ]
  },
  {
   "cell_type": "markdown",
   "metadata": {},
   "source": [
    "### 4.1 Calculando dados de precisões dos chutes"
   ]
  },
  {
   "cell_type": "code",
   "execution_count": 9,
   "metadata": {},
   "outputs": [
    {
     "name": "stdout",
     "output_type": "stream",
     "text": [
      "+--------------+-------------+------------------+-----------+--------------------+------------------+-----------+--------------------+\n",
      "|     time_casa|    time_fora|chutes_no_gol_casa|chutes_casa|precisao_chutes_casa|chutes_no_gol_fora|chutes_fora|precisao_chutes_fora|\n",
      "+--------------+-------------+------------------+-----------+--------------------+------------------+-----------+--------------------+\n",
      "|Crystal Palace|      Arsenal|               2.0|       10.0|                 0.2|               2.0|       10.0|                 0.2|\n",
      "|        Fulham|    Liverpool|               3.0|        9.0|  0.3333333333333333|               4.0|       11.0| 0.36363636363636365|\n",
      "|   Bournemouth|  Aston Villa|               3.0|        7.0| 0.42857142857142855|               2.0|       15.0| 0.13333333333333333|\n",
      "|         Leeds|       Wolves|               4.0|       12.0|  0.3333333333333333|               6.0|       15.0|                 0.4|\n",
      "|     Newcastle|Nott'm Forest|              10.0|       23.0| 0.43478260869565216|               0.0|        5.0|                 0.0|\n",
      "+--------------+-------------+------------------+-----------+--------------------+------------------+-----------+--------------------+\n",
      "only showing top 5 rows\n",
      "\n"
     ]
    }
   ],
   "source": [
    "# precisão dos chutes no gol do time de casa e de fora\n",
    "df = df.withColumn('precisao_chutes_casa', df['chutes_no_gol_casa'] / df['chutes_casa'])\n",
    "df = df.withColumn('precisao_chutes_fora', df['chutes_no_gol_fora'] / df['chutes_fora'])\n",
    "df.select('time_casa', 'time_fora', 'chutes_no_gol_casa', 'chutes_casa', 'precisao_chutes_casa', 'chutes_no_gol_fora', 'chutes_fora', 'precisao_chutes_fora').show(5)"
   ]
  },
  {
   "cell_type": "markdown",
   "metadata": {},
   "source": [
    "### 4.2 Calculando média de gols por partida, temporada e divisão"
   ]
  },
  {
   "cell_type": "code",
   "execution_count": 10,
   "metadata": {},
   "outputs": [
    {
     "name": "stderr",
     "output_type": "stream",
     "text": [
      "[Stage 6:=============================>                             (1 + 1) / 2]\r"
     ]
    },
    {
     "name": "stdout",
     "output_type": "stream",
     "text": [
      "+---------+------------+------------------+------------------+\n",
      "|temporada|     divisao|   media_gols_casa|   media_gols_fora|\n",
      "+---------+------------+------------------+------------------+\n",
      "|    22-23|  Bundesliga|1.8562091503267975|1.3169934640522876|\n",
      "|    01-02|Bundesliga 2|1.8431372549019607|1.3006535947712419|\n",
      "|    03-04|  Bundesliga|1.8071895424836601|1.1633986928104576|\n",
      "|    18-19|  Bundesliga|1.7908496732026145|1.3888888888888888|\n",
      "|    96-97|  Bundesliga|1.7810457516339868| 1.196078431372549|\n",
      "+---------+------------+------------------+------------------+\n",
      "only showing top 5 rows\n",
      "\n"
     ]
    },
    {
     "name": "stderr",
     "output_type": "stream",
     "text": [
      "                                                                                \r"
     ]
    }
   ],
   "source": [
    "# média de gols por partida, temporada e divisão ordenado por media de gols decrecente\n",
    "from pyspark.sql.functions import avg\n",
    "\n",
    "df_media_gols = df.groupBy('temporada', 'divisao') \\\n",
    "    .agg(avg('gols_time_casa').alias('media_gols_casa'), avg('gols_time_fora').alias('media_gols_fora')) \\\n",
    "    .orderBy('media_gols_casa', ascending=False)\n",
    "\n",
    "df_media_gols.show(5)"
   ]
  },
  {
   "cell_type": "markdown",
   "metadata": {},
   "source": [
    "### 4.3 Calculando média de chutes no gol por partida, temporada e divisão"
   ]
  },
  {
   "cell_type": "code",
   "execution_count": 11,
   "metadata": {},
   "outputs": [
    {
     "name": "stdout",
     "output_type": "stream",
     "text": [
      "+---------+----------+------------------+------------------+\n",
      "|temporada|   divisao| media_chutes_casa| media_chutes_fora|\n",
      "+---------+----------+------------------+------------------+\n",
      "|    03-04|Bundesliga|16.035947712418302|12.277777777777779|\n",
      "|    05-06|Bundesliga|15.892156862745098|12.624183006535947|\n",
      "|    07-08|Bundesliga|15.764705882352942|12.441176470588236|\n",
      "|    04-05|Bundesliga| 15.50326797385621|12.058823529411764|\n",
      "|    06-07|Bundesliga| 15.38562091503268|12.281045751633988|\n",
      "+---------+----------+------------------+------------------+\n",
      "only showing top 5 rows\n",
      "\n"
     ]
    }
   ],
   "source": [
    "# média de chutes por partida, temporada e divisão ordenado por media de chutes decrecente\n",
    "df_media_chutes = df.groupBy('temporada', 'divisao') \\\n",
    "    .agg(avg('chutes_casa').alias('media_chutes_casa'), avg('chutes_fora').alias('media_chutes_fora')) \\\n",
    "    .orderBy('media_chutes_casa', ascending=False)\n",
    "\n",
    "df_media_chutes.show(5)"
   ]
  },
  {
   "cell_type": "markdown",
   "metadata": {},
   "source": [
    "### 4.4 Quantidade de vitórias, derrotas e empates por temporada e time"
   ]
  },
  {
   "cell_type": "code",
   "execution_count": 12,
   "metadata": {},
   "outputs": [],
   "source": [
    "# quantidade de vitórias, empates e derrotas por time por temporada\n",
    "\n",
    "df_vitorias = df.filter(df['resultado'] == 'Casa').groupBy('temporada', 'time_casa').count().withColumnRenamed('count', 'vitorias')\n",
    "df_empates = df.filter(df['resultado'] == 'Empate').groupBy('temporada', 'time_casa').count().withColumnRenamed('count', 'empates')\n",
    "df_derrotas = df.filter(df['resultado'] == 'Fora').groupBy('temporada', 'time_casa').count().withColumnRenamed('count', 'derrotas')"
   ]
  },
  {
   "cell_type": "code",
   "execution_count": 13,
   "metadata": {},
   "outputs": [
    {
     "name": "stdout",
     "output_type": "stream",
     "text": [
      "+---------+---------+-------+\n",
      "|temporada|time_casa|empates|\n",
      "+---------+---------+-------+\n",
      "|    03-04|   Napoli|     15|\n",
      "|    93-94|  Grimsby|     14|\n",
      "|    09-10|  Vicenza|     13|\n",
      "+---------+---------+-------+\n",
      "only showing top 3 rows\n",
      "\n",
      "+---------+---------+--------+\n",
      "|temporada|time_casa|vitorias|\n",
      "+---------+---------+--------+\n",
      "|    13-14| Juventus|      19|\n",
      "|    01-02| Man City|      19|\n",
      "|    20-21|  Watford|      19|\n",
      "+---------+---------+--------+\n",
      "only showing top 3 rows\n",
      "\n",
      "+---------+---------+--------+\n",
      "|temporada|time_casa|derrotas|\n",
      "+---------+---------+--------+\n",
      "|    01-02|Stockport|      17|\n",
      "|    03-04|Wimbledon|      16|\n",
      "|    18-19|   Bolton|      15|\n",
      "+---------+---------+--------+\n",
      "only showing top 3 rows\n",
      "\n"
     ]
    }
   ],
   "source": [
    "\n",
    "df_empates.orderBy('empates', ascending=False).show(3)\n",
    "df_vitorias.orderBy('vitorias', ascending=False).show(3)\n",
    "df_derrotas.orderBy('derrotas', ascending=False).show(3)\n"
   ]
  },
  {
   "cell_type": "markdown",
   "metadata": {},
   "source": [
    "## 5 Armazenando os dados "
   ]
  },
  {
   "cell_type": "markdown",
   "metadata": {},
   "source": [
    "### 5.1 Médias de chutes e gols por temporada e divisão"
   ]
  },
  {
   "cell_type": "code",
   "execution_count": 15,
   "metadata": {},
   "outputs": [
    {
     "name": "stderr",
     "output_type": "stream",
     "text": [
      "                                                                                \r"
     ]
    }
   ],
   "source": [
    "# dalve df_media_chutes, df_media_gols em arquivo parquet particionado por temporada e divisão e df_vitorias, df_empates, df_derrotas em arquivo parquet particionado por temporada na pasta datasink\n",
    "\n",
    "df_media_chutes.write.partitionBy('temporada', 'divisao').parquet('datasink/media_chutes', mode='overwrite')\n",
    "df_media_gols.write.partitionBy('temporada', 'divisao').parquet('datasink/media_gols', mode='overwrite')\n"
   ]
  },
  {
   "cell_type": "markdown",
   "metadata": {},
   "source": [
    "### 5.2 Vitórias, empates e derrotas por temporada"
   ]
  },
  {
   "cell_type": "code",
   "execution_count": 14,
   "metadata": {},
   "outputs": [
    {
     "name": "stderr",
     "output_type": "stream",
     "text": [
      "                                                                                \r"
     ]
    },
    {
     "name": "stderr",
     "output_type": "stream",
     "text": [
      "24/04/05 20:06:54 WARN GarbageCollectionMetrics: To enable non-built-in garbage collector(s) List(G1 Concurrent GC), users should configure it(them) to spark.eventLog.gcMetrics.youngGenerationGarbageCollectors or spark.eventLog.gcMetrics.oldGenerationGarbageCollectors\n"
     ]
    }
   ],
   "source": [
    "# salve o df_vitorias, df_empates e df_derrotas em um arquivo parquet na pasta datasink particionada por temporada\n",
    "df_vitorias.write.mode('overwrite').partitionBy('temporada').parquet('datasink/vitorias')\n",
    "df_empates.write.mode('overwrite').partitionBy('temporada').parquet('datasink/empates')\n",
    "df_derrotas.write.mode('overwrite').partitionBy('temporada').parquet('datasink/derrotas')\n"
   ]
  }
 ],
 "metadata": {
  "kernelspec": {
   "display_name": ".venv",
   "language": "python",
   "name": "python3"
  },
  "language_info": {
   "codemirror_mode": {
    "name": "ipython",
    "version": 3
   },
   "file_extension": ".py",
   "mimetype": "text/x-python",
   "name": "python",
   "nbconvert_exporter": "python",
   "pygments_lexer": "ipython3",
   "version": "3.11.5"
  }
 },
 "nbformat": 4,
 "nbformat_minor": 2
}
