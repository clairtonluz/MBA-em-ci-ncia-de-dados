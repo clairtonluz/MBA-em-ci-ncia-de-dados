{
 "cells": [
  {
   "cell_type": "markdown",
   "metadata": {},
   "source": [
    "# Trabalho de Engenharia de Dados II\n",
    "\n",
    "## Membros\n",
    "* Clairton Carneiro Luz\n",
    "* Lairton Mendes\n",
    "* Paulo Roberto Mesquita da Silva"
   ]
  },
  {
   "cell_type": "markdown",
   "metadata": {},
   "source": [
    "## Instalando dependências"
   ]
  },
  {
   "cell_type": "code",
   "execution_count": 1,
   "metadata": {},
   "outputs": [
    {
     "name": "stdout",
     "output_type": "stream",
     "text": [
      "Requirement already satisfied: pyspark in /Users/clairtonluz/projects/personal/MBA-em-ciencia-de-dados/Engenharia de Dados II/.venv/lib/python3.11/site-packages (from -r requirements.txt (line 1)) (3.5.1)\n",
      "Requirement already satisfied: gdown in /Users/clairtonluz/projects/personal/MBA-em-ciencia-de-dados/Engenharia de Dados II/.venv/lib/python3.11/site-packages (from -r requirements.txt (line 2)) (5.1.0)\n",
      "Requirement already satisfied: pandas in /Users/clairtonluz/projects/personal/MBA-em-ciencia-de-dados/Engenharia de Dados II/.venv/lib/python3.11/site-packages (from -r requirements.txt (line 3)) (2.2.1)\n",
      "Requirement already satisfied: pyarrow in /Users/clairtonluz/projects/personal/MBA-em-ciencia-de-dados/Engenharia de Dados II/.venv/lib/python3.11/site-packages (from -r requirements.txt (line 4)) (15.0.2)\n",
      "Requirement already satisfied: grpcio in /Users/clairtonluz/projects/personal/MBA-em-ciencia-de-dados/Engenharia de Dados II/.venv/lib/python3.11/site-packages (from -r requirements.txt (line 5)) (1.62.1)\n",
      "Requirement already satisfied: google in /Users/clairtonluz/projects/personal/MBA-em-ciencia-de-dados/Engenharia de Dados II/.venv/lib/python3.11/site-packages (from -r requirements.txt (line 6)) (3.0.0)\n",
      "Requirement already satisfied: py4j==0.10.9.7 in /Users/clairtonluz/projects/personal/MBA-em-ciencia-de-dados/Engenharia de Dados II/.venv/lib/python3.11/site-packages (from pyspark->-r requirements.txt (line 1)) (0.10.9.7)\n",
      "Requirement already satisfied: beautifulsoup4 in /Users/clairtonluz/projects/personal/MBA-em-ciencia-de-dados/Engenharia de Dados II/.venv/lib/python3.11/site-packages (from gdown->-r requirements.txt (line 2)) (4.12.3)\n",
      "Requirement already satisfied: filelock in /Users/clairtonluz/projects/personal/MBA-em-ciencia-de-dados/Engenharia de Dados II/.venv/lib/python3.11/site-packages (from gdown->-r requirements.txt (line 2)) (3.13.3)\n",
      "Requirement already satisfied: requests[socks] in /Users/clairtonluz/projects/personal/MBA-em-ciencia-de-dados/Engenharia de Dados II/.venv/lib/python3.11/site-packages (from gdown->-r requirements.txt (line 2)) (2.31.0)\n",
      "Requirement already satisfied: tqdm in /Users/clairtonluz/projects/personal/MBA-em-ciencia-de-dados/Engenharia de Dados II/.venv/lib/python3.11/site-packages (from gdown->-r requirements.txt (line 2)) (4.66.2)\n",
      "Requirement already satisfied: numpy<2,>=1.23.2 in /Users/clairtonluz/projects/personal/MBA-em-ciencia-de-dados/Engenharia de Dados II/.venv/lib/python3.11/site-packages (from pandas->-r requirements.txt (line 3)) (1.26.4)\n",
      "Requirement already satisfied: python-dateutil>=2.8.2 in /Users/clairtonluz/projects/personal/MBA-em-ciencia-de-dados/Engenharia de Dados II/.venv/lib/python3.11/site-packages (from pandas->-r requirements.txt (line 3)) (2.9.0.post0)\n",
      "Requirement already satisfied: pytz>=2020.1 in /Users/clairtonluz/projects/personal/MBA-em-ciencia-de-dados/Engenharia de Dados II/.venv/lib/python3.11/site-packages (from pandas->-r requirements.txt (line 3)) (2024.1)\n",
      "Requirement already satisfied: tzdata>=2022.7 in /Users/clairtonluz/projects/personal/MBA-em-ciencia-de-dados/Engenharia de Dados II/.venv/lib/python3.11/site-packages (from pandas->-r requirements.txt (line 3)) (2024.1)\n",
      "Requirement already satisfied: six>=1.5 in /Users/clairtonluz/projects/personal/MBA-em-ciencia-de-dados/Engenharia de Dados II/.venv/lib/python3.11/site-packages (from python-dateutil>=2.8.2->pandas->-r requirements.txt (line 3)) (1.16.0)\n",
      "Requirement already satisfied: soupsieve>1.2 in /Users/clairtonluz/projects/personal/MBA-em-ciencia-de-dados/Engenharia de Dados II/.venv/lib/python3.11/site-packages (from beautifulsoup4->gdown->-r requirements.txt (line 2)) (2.5)\n",
      "Requirement already satisfied: charset-normalizer<4,>=2 in /Users/clairtonluz/projects/personal/MBA-em-ciencia-de-dados/Engenharia de Dados II/.venv/lib/python3.11/site-packages (from requests[socks]->gdown->-r requirements.txt (line 2)) (3.3.2)\n",
      "Requirement already satisfied: idna<4,>=2.5 in /Users/clairtonluz/projects/personal/MBA-em-ciencia-de-dados/Engenharia de Dados II/.venv/lib/python3.11/site-packages (from requests[socks]->gdown->-r requirements.txt (line 2)) (3.6)\n",
      "Requirement already satisfied: urllib3<3,>=1.21.1 in /Users/clairtonluz/projects/personal/MBA-em-ciencia-de-dados/Engenharia de Dados II/.venv/lib/python3.11/site-packages (from requests[socks]->gdown->-r requirements.txt (line 2)) (2.2.1)\n",
      "Requirement already satisfied: certifi>=2017.4.17 in /Users/clairtonluz/projects/personal/MBA-em-ciencia-de-dados/Engenharia de Dados II/.venv/lib/python3.11/site-packages (from requests[socks]->gdown->-r requirements.txt (line 2)) (2024.2.2)\n",
      "Requirement already satisfied: PySocks!=1.5.7,>=1.5.6 in /Users/clairtonluz/projects/personal/MBA-em-ciencia-de-dados/Engenharia de Dados II/.venv/lib/python3.11/site-packages (from requests[socks]->gdown->-r requirements.txt (line 2)) (1.7.1)\n",
      "\n",
      "\u001b[1m[\u001b[0m\u001b[34;49mnotice\u001b[0m\u001b[1;39;49m]\u001b[0m\u001b[39;49m A new release of pip is available: \u001b[0m\u001b[31;49m23.2.1\u001b[0m\u001b[39;49m -> \u001b[0m\u001b[32;49m24.0\u001b[0m\n",
      "\u001b[1m[\u001b[0m\u001b[34;49mnotice\u001b[0m\u001b[1;39;49m]\u001b[0m\u001b[39;49m To update, run: \u001b[0m\u001b[32;49mpip install --upgrade pip\u001b[0m\n",
      "Note: you may need to restart the kernel to use updated packages.\n"
     ]
    }
   ],
   "source": [
    "%pip install -r requirements.txt"
   ]
  },
  {
   "cell_type": "markdown",
   "metadata": {},
   "source": [
    "## Baixando dataset"
   ]
  },
  {
   "cell_type": "code",
   "execution_count": null,
   "metadata": {},
   "outputs": [],
   "source": [
    "\n",
    "!mkdir -p datasets\n",
    "# if not exist, download the dataset\n",
    "import os\n",
    "import gdown\n",
    "\n",
    "if not os.path.exists('datasets/archive.zip'):\n",
    "    url = 'https://drive.google.com/uc?id=17lmw3IkAM4T71chEJkxYNQSB-Ky9s14-'\n",
    "    output = 'datasets/archive.zip'\n",
    "    gdown.download(url, output, quiet=False)"
   ]
  },
  {
   "cell_type": "markdown",
   "metadata": {},
   "source": [
    "## Extraindo dataset"
   ]
  },
  {
   "cell_type": "code",
   "execution_count": null,
   "metadata": {},
   "outputs": [],
   "source": [
    "#  if not exist, unzip the dataset\n",
    "import zipfile\n",
    "import os\n",
    "\n",
    "if not os.path.exists('datasets/past-data.csv'):\n",
    "    with zipfile.ZipFile('datasets/archive.zip', 'r') as zip_ref:\n",
    "        zip_ref.extractall('datasets/')"
   ]
  },
  {
   "cell_type": "markdown",
   "metadata": {},
   "source": [
    "## Carregando dataset"
   ]
  },
  {
   "cell_type": "code",
   "execution_count": 4,
   "metadata": {},
   "outputs": [
    {
     "name": "stdout",
     "output_type": "stream",
     "text": [
      "Key to data:\n",
      "\n",
      "Season = League Season\n",
      "Div = League Division\n",
      "Date = Match Date (dd/mm/yy)\n",
      "Time = Time of match kick off\n",
      "HomeTeam = Home Team\n",
      "AwayTeam = Away Team\n",
      "FTHG = Full Time Home Team Goals\n",
      "FTAG = Full Time Away Team Goals\n",
      "FTR = Full Time Result (H=Home Win, D=Draw, A=Away Win)\n",
      "HTHG = Half Time Home Team Goals\n",
      "HTAG = Half Time Away Team Goals\n",
      "HTR = Half Time Result (H=Home Win, D=Draw, A=Away Win)\n",
      "\n",
      "Match Statistics (where available)\n",
      "Referee = Match Referee\n",
      "HS = Home Team Shots\n",
      "AS = Away Team Shots\n",
      "HST = Home Team Shots on Target\n",
      "AST = Away Team Shots on Target\n",
      "HC = Home Team Corners\n",
      "AC = Away Team Corners\n",
      "HF = Home Team Fouls Committed\n",
      "AF = Away Team Fouls Committed\n",
      "HY = Home Team Yellow Cards\n",
      "AY = Away Team Yellow Cards\n",
      "HR = Home Team Red Cards\n",
      "AR = Away Team Red Cards\n"
     ]
    }
   ],
   "source": [
    "# Imprime leganda do dataset\n",
    "with open('datasets/headers-details.txt', 'r') as file:\n",
    "    print(file.read())\n"
   ]
  },
  {
   "cell_type": "code",
   "execution_count": 1,
   "metadata": {},
   "outputs": [
    {
     "name": "stderr",
     "output_type": "stream",
     "text": [
      "Setting default log level to \"WARN\".\n",
      "To adjust logging level use sc.setLogLevel(newLevel). For SparkR, use setLogLevel(newLevel).\n",
      "24/04/02 16:42:27 WARN NativeCodeLoader: Unable to load native-hadoop library for your platform... using builtin-java classes where applicable\n"
     ]
    },
    {
     "name": "stdout",
     "output_type": "stream",
     "text": [
      "+------+--------------+----------+-------------------+--------------+-------------+----+----+---+----+----+---+--------+----+----+----+---+----+----+----+---+---+---+---+---+\n",
      "|Season|           Div|      Date|               Time|      HomeTeam|     AwayTeam|FTHG|FTAG|FTR|HTHG|HTAG|HTR| Referee|  HS|  AS| HST|AST|  HF|  AF|  HC| AC| HY| AY| HR| AR|\n",
      "+------+--------------+----------+-------------------+--------------+-------------+----+----+---+----+----+---+--------+----+----+----+---+----+----+----+---+---+---+---+---+\n",
      "| 22-23|Premier League|05/08/2022|2024-04-02 20:00:00|Crystal Palace|      Arsenal| 0.0| 2.0|  A| 0.0| 1.0|  A|A Taylor|10.0|10.0| 2.0|2.0|16.0|11.0| 3.0|5.0|1.0|2.0|0.0|0.0|\n",
      "| 22-23|Premier League|06/08/2022|2024-04-02 12:30:00|        Fulham|    Liverpool| 2.0| 2.0|  D| 1.0| 0.0|  H|A Madley| 9.0|11.0| 3.0|4.0| 7.0| 9.0| 4.0|4.0|2.0|0.0|0.0|0.0|\n",
      "| 22-23|Premier League|06/08/2022|2024-04-02 15:00:00|   Bournemouth|  Aston Villa| 2.0| 0.0|  H| 1.0| 0.0|  H|P Bankes| 7.0|15.0| 3.0|2.0|18.0|16.0| 5.0|5.0|3.0|3.0|0.0|0.0|\n",
      "| 22-23|Premier League|06/08/2022|2024-04-02 15:00:00|         Leeds|       Wolves| 2.0| 1.0|  H| 1.0| 1.0|  D| R Jones|12.0|15.0| 4.0|6.0|13.0| 9.0| 6.0|4.0|2.0|0.0|0.0|0.0|\n",
      "| 22-23|Premier League|06/08/2022|2024-04-02 15:00:00|     Newcastle|Nott'm Forest| 2.0| 0.0|  H| 0.0| 0.0|  D|S Hooper|23.0| 5.0|10.0|0.0| 9.0|14.0|11.0|1.0|0.0|3.0|0.0|0.0|\n",
      "+------+--------------+----------+-------------------+--------------+-------------+----+----+---+----+----+---+--------+----+----+----+---+----+----+----+---+---+---+---+---+\n",
      "only showing top 5 rows\n",
      "\n"
     ]
    },
    {
     "name": "stderr",
     "output_type": "stream",
     "text": [
      "24/04/02 16:42:41 WARN GarbageCollectionMetrics: To enable non-built-in garbage collector(s) List(G1 Concurrent GC), users should configure it(them) to spark.eventLog.gcMetrics.youngGenerationGarbageCollectors or spark.eventLog.gcMetrics.oldGenerationGarbageCollectors\n"
     ]
    }
   ],
   "source": [
    "# Carregando = 'datasets/onlinefoods.csv' usando spark que está rodando localmente using componse.yml\n",
    "\n",
    "from pyspark.sql import SparkSession\n",
    "from pyspark.sql import SQLContext\n",
    "\n",
    "spark = SparkSession.builder \\\n",
    "    .appName(\"Football Data | Top 5 European Leagues\") \\\n",
    "    .master(\"local[2]\") \\\n",
    "    .getOrCreate()\n",
    "\n",
    "sc = spark.sparkContext\n",
    "\n",
    "df=spark.read \\\n",
    "        .option(\"header\", \"true\") \\\n",
    "        .option(\"inferSchema\", \"true\") \\\n",
    "        .csv('./datasets/past-data.csv')\n",
    "\n",
    "df.show(5)\n"
   ]
  },
  {
   "cell_type": "markdown",
   "metadata": {},
   "source": [
    "## Limpeza e transformação"
   ]
  },
  {
   "cell_type": "code",
   "execution_count": 5,
   "metadata": {},
   "outputs": [
    {
     "name": "stdout",
     "output_type": "stream",
     "text": [
      "+---------+--------------+----------+-------------------+--------------+-------------+--------------+--------------+---------+------------------------+------------------------+-------------------+--------+-----------+-----------+------------------+------------------+-----------+-----------+---------------+---------------+---------------------+---------------------+----------------------+----------------------+\n",
      "|temporada|       divisao|      data|     inicio_partida|     time_casa|    time_fora|gols_time_casa|gols_time_fora|resultado|time_casa_gols_intervalo|time_fora_gols_intervalo|resultado_intervalo| arbitro|chutes_casa|chutes_fora|chutes_no_gol_casa|chutes_no_gol_fora|faltas_casa|faltas_fora|escanteios_casa|escanteios_fora|cartoes_amarelos_casa|cartoes_amarelos_fora|cartoes_vermelhos_casa|cartoes_vermelhos_fora|\n",
      "+---------+--------------+----------+-------------------+--------------+-------------+--------------+--------------+---------+------------------------+------------------------+-------------------+--------+-----------+-----------+------------------+------------------+-----------+-----------+---------------+---------------+---------------------+---------------------+----------------------+----------------------+\n",
      "|    22-23|Premier League|05/08/2022|2024-04-02 20:00:00|Crystal Palace|      Arsenal|           0.0|           2.0|        A|                     0.0|                     1.0|                  A|A Taylor|       10.0|       10.0|               2.0|               2.0|       16.0|       11.0|            3.0|            5.0|                  1.0|                  2.0|                   0.0|                   0.0|\n",
      "|    22-23|Premier League|06/08/2022|2024-04-02 12:30:00|        Fulham|    Liverpool|           2.0|           2.0|        D|                     1.0|                     0.0|                  H|A Madley|        9.0|       11.0|               3.0|               4.0|        7.0|        9.0|            4.0|            4.0|                  2.0|                  0.0|                   0.0|                   0.0|\n",
      "|    22-23|Premier League|06/08/2022|2024-04-02 15:00:00|   Bournemouth|  Aston Villa|           2.0|           0.0|        H|                     1.0|                     0.0|                  H|P Bankes|        7.0|       15.0|               3.0|               2.0|       18.0|       16.0|            5.0|            5.0|                  3.0|                  3.0|                   0.0|                   0.0|\n",
      "|    22-23|Premier League|06/08/2022|2024-04-02 15:00:00|         Leeds|       Wolves|           2.0|           1.0|        H|                     1.0|                     1.0|                  D| R Jones|       12.0|       15.0|               4.0|               6.0|       13.0|        9.0|            6.0|            4.0|                  2.0|                  0.0|                   0.0|                   0.0|\n",
      "|    22-23|Premier League|06/08/2022|2024-04-02 15:00:00|     Newcastle|Nott'm Forest|           2.0|           0.0|        H|                     0.0|                     0.0|                  D|S Hooper|       23.0|        5.0|              10.0|               0.0|        9.0|       14.0|           11.0|            1.0|                  0.0|                  3.0|                   0.0|                   0.0|\n",
      "+---------+--------------+----------+-------------------+--------------+-------------+--------------+--------------+---------+------------------------+------------------------+-------------------+--------+-----------+-----------+------------------+------------------+-----------+-----------+---------------+---------------+---------------------+---------------------+----------------------+----------------------+\n",
      "only showing top 5 rows\n",
      "\n"
     ]
    }
   ],
   "source": [
    "# traduzindo colunas para pt-br\n",
    "df = df.withColumnRenamed('Season', 'temporada')\n",
    "df = df.withColumnRenamed('Div', 'divisao')\n",
    "df = df.withColumnRenamed('Date', 'data')\n",
    "df = df.withColumnRenamed('Time', 'inicio_partida')\n",
    "df = df.withColumnRenamed('HomeTeam', 'time_casa')\n",
    "df = df.withColumnRenamed('AwayTeam', 'time_fora')\n",
    "df = df.withColumnRenamed('FTHG', 'gols_time_casa')\n",
    "df = df.withColumnRenamed('FTAG', 'gols_time_fora')\n",
    "df = df.withColumnRenamed('FTR', 'resultado')\n",
    "df = df.withColumnRenamed('HTHG', 'time_casa_gols_intervalo')\n",
    "df = df.withColumnRenamed('HTAG', 'time_fora_gols_intervalo')\n",
    "df = df.withColumnRenamed('HTR', 'resultado_intervalo')\n",
    "df = df.withColumnRenamed('Referee', 'arbitro')\n",
    "df = df.withColumnRenamed('HS', 'chutes_casa')\n",
    "df = df.withColumnRenamed('AS', 'chutes_fora')\n",
    "df = df.withColumnRenamed('HST', 'chutes_no_gol_casa')\n",
    "df = df.withColumnRenamed('AST', 'chutes_no_gol_fora')\n",
    "df = df.withColumnRenamed('HC', 'escanteios_casa')\n",
    "df = df.withColumnRenamed('AC', 'escanteios_fora')\n",
    "df = df.withColumnRenamed('HF', 'faltas_casa')\n",
    "df = df.withColumnRenamed('AF', 'faltas_fora')\n",
    "df = df.withColumnRenamed('HY', 'cartoes_amarelos_casa')\n",
    "df = df.withColumnRenamed('AY', 'cartoes_amarelos_fora')\n",
    "df = df.withColumnRenamed('HR', 'cartoes_vermelhos_casa')\n",
    "df = df.withColumnRenamed('AR', 'cartoes_vermelhos_fora')\n",
    "\n",
    "df.show(5)\n"
   ]
  },
  {
   "cell_type": "markdown",
   "metadata": {},
   "source": [
    "### Criar colunas de precisões dos chutes"
   ]
  },
  {
   "cell_type": "code",
   "execution_count": 6,
   "metadata": {},
   "outputs": [
    {
     "name": "stdout",
     "output_type": "stream",
     "text": [
      "+--------------+-------------+------------------+-----------+--------------------+------------------+-----------+--------------------+\n",
      "|     time_casa|    time_fora|chutes_no_gol_casa|chutes_casa|precisao_chutes_casa|chutes_no_gol_fora|chutes_fora|precisao_chutes_fora|\n",
      "+--------------+-------------+------------------+-----------+--------------------+------------------+-----------+--------------------+\n",
      "|Crystal Palace|      Arsenal|               2.0|       10.0|                 0.2|               2.0|       10.0|                 0.2|\n",
      "|        Fulham|    Liverpool|               3.0|        9.0|  0.3333333333333333|               4.0|       11.0| 0.36363636363636365|\n",
      "|   Bournemouth|  Aston Villa|               3.0|        7.0| 0.42857142857142855|               2.0|       15.0| 0.13333333333333333|\n",
      "|         Leeds|       Wolves|               4.0|       12.0|  0.3333333333333333|               6.0|       15.0|                 0.4|\n",
      "|     Newcastle|Nott'm Forest|              10.0|       23.0| 0.43478260869565216|               0.0|        5.0|                 0.0|\n",
      "+--------------+-------------+------------------+-----------+--------------------+------------------+-----------+--------------------+\n",
      "only showing top 5 rows\n",
      "\n"
     ]
    }
   ],
   "source": [
    "# precisão dos chutes no gol do time de casa e de fora\n",
    "df = df.withColumn('precisao_chutes_casa', df['chutes_no_gol_casa'] / df['chutes_casa'])\n",
    "df = df.withColumn('precisao_chutes_fora', df['chutes_no_gol_fora'] / df['chutes_fora'])\n",
    "df.select('time_casa', 'time_fora', 'chutes_no_gol_casa', 'chutes_casa', 'precisao_chutes_casa', 'chutes_no_gol_fora', 'chutes_fora', 'precisao_chutes_fora').show(5)"
   ]
  }
 ],
 "metadata": {
  "kernelspec": {
   "display_name": ".venv",
   "language": "python",
   "name": "python3"
  },
  "language_info": {
   "codemirror_mode": {
    "name": "ipython",
    "version": 3
   },
   "file_extension": ".py",
   "mimetype": "text/x-python",
   "name": "python",
   "nbconvert_exporter": "python",
   "pygments_lexer": "ipython3",
   "version": "3.11.5"
  }
 },
 "nbformat": 4,
 "nbformat_minor": 2
}
